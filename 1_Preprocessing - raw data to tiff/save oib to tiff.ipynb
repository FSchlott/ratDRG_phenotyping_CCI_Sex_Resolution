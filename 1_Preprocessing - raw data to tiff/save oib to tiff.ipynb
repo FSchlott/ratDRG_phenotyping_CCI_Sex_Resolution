{
 "cells": [
  {
   "cell_type": "code",
   "execution_count": null,
   "id": "a8da2dc8",
   "metadata": {},
   "outputs": [],
   "source": [
    "import numpy as np\n",
    "\n",
    "from tifffile import imwrite\n",
    "\n",
    "import os"
   ]
  },
  {
   "cell_type": "code",
   "execution_count": null,
   "id": "a7455f93",
   "metadata": {},
   "outputs": [],
   "source": [
    "def get_5_stack (oib):\n",
    "    mid = (oib.shape [1])//2\n",
    "    lower = mid-2\n",
    "    upper = mid+3\n",
    "    oib_cut = oib [: , lower:upper, : , : ]\n",
    "    oib_cut_max = np.max (oib_cut, axis = 1)\n",
    "    return (oib_cut, oib_cut_max)"
   ]
  },
  {
   "cell_type": "code",
   "execution_count": null,
   "id": "61fc5bbc",
   "metadata": {},
   "outputs": [],
   "source": [
    "def save_5stack (oib, filenr, targetdir):\n",
    "    mid = (oib.shape [1])//2\n",
    "    lower = mid-2\n",
    "    upper = mid+3\n",
    "    oib_cut = oib [: , lower:upper, : , : ]\n",
    "    oib_cut_max = np.max (oib_cut, axis = 1)\n",
    "       \n",
    "    L_ch = [\"nf\", \"fabp7\" , \"iba1\"]\n",
    "    \n",
    "    for i in range (3):\n",
    "        saveto = os.path.join (targetdir, L_ch [i])\n",
    "        try: \n",
    "            os.makedirs (saveto) \n",
    "        except: \n",
    "            pass\n",
    "        single_ch = oib_cut_max [i]\n",
    "        imwrite (saveto + \"/\" + format (filenr , \"04d\") + \".tif\", single_ch)"
   ]
  },
  {
   "cell_type": "code",
   "execution_count": null,
   "id": "2cb742d9",
   "metadata": {},
   "outputs": [],
   "source": [
    "root = r\"D:\\IF CCI Females\\F5 Confocal\\Rohdaten\"\n",
    "\n",
    "for dirpath , dirnames, filenames in os.walk (root):\n",
    "    count = 1\n",
    "    for filename in filenames: \n",
    "        file = os.path.join (dirpath , filename)\n",
    "        targetdir = dirpath.replace (\"Rohdaten\" , \"Tifs_max\")\n",
    "        print ( \"Imagefile:\" , file) \n",
    "        \n",
    "        oib = imread (file)\n",
    "        save_5stack (oib, count, targetdir)\n",
    "        count += 1"
   ]
  }
 ],
 "metadata": {
  "kernelspec": {
   "display_name": "Python 3",
   "language": "python",
   "name": "python3"
  },
  "language_info": {
   "codemirror_mode": {
    "name": "ipython",
    "version": 3
   },
   "file_extension": ".py",
   "mimetype": "text/x-python",
   "name": "python",
   "nbconvert_exporter": "python",
   "pygments_lexer": "ipython3",
   "version": "3.8.8"
  }
 },
 "nbformat": 4,
 "nbformat_minor": 5
}
