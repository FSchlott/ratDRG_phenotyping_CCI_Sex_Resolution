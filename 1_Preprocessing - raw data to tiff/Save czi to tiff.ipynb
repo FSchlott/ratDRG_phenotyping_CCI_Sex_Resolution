{
 "cells": [
  {
   "cell_type": "code",
   "execution_count": null,
   "id": "a925948a",
   "metadata": {},
   "outputs": [],
   "source": [
    "import os\n",
    "import czifile as czi \n",
    "import numpy as np\n",
    "from tifffile import imwrite"
   ]
  },
  {
   "cell_type": "code",
   "execution_count": null,
   "id": "b70a574e",
   "metadata": {},
   "outputs": [
    {
     "data": {
      "text/plain": [
       "'        \\n###adj1\\ncut_adj = cut/4069  \\ncut_adj = np.uint16 (cut_adj * 16385)\\n\\n###adj2\\ncut_adj = np.uint16 (cut * 4)\\ncut_adj = np.clip (cut_adj, 0, 16385)\\n'"
      ]
     },
     "execution_count": 2,
     "metadata": {},
     "output_type": "execute_result"
    }
   ],
   "source": [
    "\"\"\"\n",
    "    #image_f = image file / path\n",
    "    #channel_id = (0-3 for DAPI and A488, Cy3, Cy5), channel = name of the channel\n",
    "    #saveto = path to save the image\n",
    "    #count to increase image number by name later\n",
    "    #img_no if a sencond file per DRG is opened \n",
    "\"\"\"\n",
    "\n",
    "def save_images (image_f , channel_id , channel , saveto , count , img_no): \n",
    "    for i in range (img_no) :\n",
    "        channel = image_f [i , channel_id , : , : , 0 ] \n",
    "        mask = (channel >= 40)*1 \n",
    "        ymin = np.min (np.where (mask == 1) [0]) \n",
    "        ymax = np.max (np.where (mask == 1) [0])\n",
    "        xmin = np.min (np.where (mask == 1) [1])\n",
    "        xmax = np.max (np.where (mask == 1) [1])\n",
    "        cut = image_f [i , channel_id , ymin:ymax , xmin:xmax , 0 ]         \n",
    "        \n",
    "        #insert adj1 for males 12 bit data (F1 (nf,gfap,iba1), F2(gs,atf3,iba1), F3(gs,atf3,iba1)) \n",
    "        #insert adj2 for females data\n",
    "    \n",
    "        print (saveto + \"/\" + format ( i + count , \"04d\") + \".tif\" )\n",
    "        imwrite (saveto + \"/\" + format ( i + count , \"04d\") + \".tif\" , cut ) #or cut_adj\n",
    "        \n",
    "'''        \n",
    "###adj1\n",
    "cut_adj = cut/4096  \n",
    "cut_adj = np.uint16 (cut_adj * 16384)\n",
    "\n",
    "###adj2\n",
    "cut_adj = np.uint16 (cut * 4)\n",
    "cut_adj = np.clip (cut_adj, 0, 16384)\n",
    "'''"
   ]
  },
  {
   "cell_type": "code",
   "execution_count": 3,
   "id": "7b86494e",
   "metadata": {},
   "outputs": [],
   "source": [
    "def walkthrough (rootpath, L_ch):\n",
    "    for dirpath , dirnames , filenames in os.walk (rootpath) : \n",
    "    \n",
    "        count = 1\n",
    "        for filename in filenames :  \n",
    "            #print ( \"Imagefile:\" , os.path.join (dirpath , filename)) \n",
    "            filepath = os.path.join (dirpath , filename)\n",
    "            img = czi.imread (filepath)\n",
    "            print ( \"save to:\" , dirpath.replace (\"Rohdaten\" , \"Tifs\")) #saves tifs to similar directory called Tifs\n",
    "            targetdir = dirpath.replace (\"Rohdaten\" , \"Tifs\")\n",
    "            img_no = img.shape [0] \n",
    "            for i in range (4):\n",
    "                subdir = L_ch [i]\n",
    "                targetsubdir = os.path.join ( targetdir , subdir )\n",
    "                print (targetsubdir , \"\\n\")\n",
    "                try : \n",
    "                    os.makedirs (targetsubdir) #creates a subfolder for each channel\n",
    "                except : \n",
    "                    pass\n",
    "                save_images ( img , i , L_ch [i] , targetsubdir , count , img_no)\n",
    "            count += img_no #for the second file of each DRG\n",
    "            print (\"\\n\\n\")"
   ]
  },
  {
   "cell_type": "code",
   "execution_count": null,
   "id": "87b512c0",
   "metadata": {},
   "outputs": [],
   "source": [
    "Bsp_rootdir = (r\"E:\\IF\\CCI - Apotom\\Females\\Rohdaten\\F1_NF-GFAP-Iba1\")\n",
    "L_ch = [\"nf\" , \"dapi\" , \"gfap\", \"iba1\"]\n",
    "\n",
    "walkthrough (rootpath, L_ch)"
   ]
  }
 ],
 "metadata": {
  "kernelspec": {
   "display_name": "Python 3",
   "language": "python",
   "name": "python3"
  },
  "language_info": {
   "codemirror_mode": {
    "name": "ipython",
    "version": 3
   },
   "file_extension": ".py",
   "mimetype": "text/x-python",
   "name": "python",
   "nbconvert_exporter": "python",
   "pygments_lexer": "ipython3",
   "version": "3.8.8"
  }
 },
 "nbformat": 4,
 "nbformat_minor": 5
}
