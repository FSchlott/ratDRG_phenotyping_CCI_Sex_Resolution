{
 "cells": [
  {
   "cell_type": "code",
   "execution_count": null,
   "id": "6d747b10",
   "metadata": {},
   "outputs": [],
   "source": [
    "import matplotlib.pyplot as plt\n",
    "import numpy as np\n",
    "import os\n",
    "\n",
    "from skimage import filters \n",
    "from skimage.morphology import disk, remove_small_holes, remove_small_objects\n",
    "\n",
    "from PIL import Image"
   ]
  },
  {
   "cell_type": "code",
   "execution_count": null,
   "id": "f4c8956e",
   "metadata": {},
   "outputs": [],
   "source": [
    "def thr_iba1_apotome (img, saveto , filename):\n",
    "    enhanced = filters.unsharp_mask (img , radius = 20.0 , amount = 2 ) #reduces background\n",
    "    otsu_thr = filters.threshold_otsu (enhanced) #set threshold with otsu\n",
    "    otsu = enhanced > otsu_thr \n",
    "    mask = filters.median (otsu , disk (2)) \n",
    "    \n",
    "    im = Image.fromarray (mask)\n",
    "    im.save (saveto + \"/\" + filename.replace (\"tif\" ,\"png\" ))\n",
    "    print (\"Titel:\\t\" , saveto + \"/\" + filename.replace (\"tif\" ,\"png\" ))"
   ]
  },
  {
   "cell_type": "code",
   "execution_count": null,
   "id": "c6d2bf9f",
   "metadata": {},
   "outputs": [],
   "source": [
    "def thr_iba1_confocal (img, saveto, filename):\n",
    "    sharpened = filters.gaussian (img)\n",
    "    thr = filters.threshold_otsu (sharpened)\n",
    "    otsu = (sharpened > thr)*1\n",
    "    mask = (filters.median (otsu , disk (3)))*255\n",
    "    mask = np.uint8 (mask)\n",
    "    \n",
    "    im = Image.fromarray (mask)\n",
    "    im.save (saveto + \"/\" + filename.replace (\"tif\" ,\"png\" ))"
   ]
  },
  {
   "cell_type": "code",
   "execution_count": null,
   "id": "d7e58eca",
   "metadata": {},
   "outputs": [],
   "source": [
    "def get_tissue (nf_img, saveto, filename):\n",
    "    nf_blur = filters.gaussian(nf_img, sigma=10)\n",
    "    thr = filters.threshold_li(nf_blur)\n",
    "    tissue = (nf_blur>thr)*1\n",
    "    tissue = remove_small_holes(tissue, area_threshold=700)\n",
    "    tissue = remove_small_objects (tissue, min_size=700)\n",
    "    \n",
    "    im = Image.fromarray (tissue)\n",
    "    im.save (saveto + \"/\" + filename.replace (\"tif\" ,\"png\" ))\n",
    "    print (\"Tissue:\\t\" , saveto + \"/\" + filename.replace (\"tif\" ,\"png\" ))"
   ]
  },
  {
   "cell_type": "code",
   "execution_count": null,
   "id": "d2a6db39",
   "metadata": {},
   "outputs": [],
   "source": [
    "def walkthrough (rootdir, fct):\n",
    "    for dirpath , dirnames , filenames in os.walk (rootdir) : \n",
    "        #thresholding for only iba1\n",
    "        if dirpath.endswith (\"iba1\"):\n",
    "            subdir = os.path.join (dirpath, dirname)\n",
    "            saveto = subdir.replace (\"iba1\" , \"iba1_pred/masks\") \n",
    "            print (saveto)\n",
    "            #make folders to save masks into\n",
    "            os.makedirs(saveto) if not os.path.exists(saveto) else None\n",
    "            \n",
    "            #apply function to all the images in each folder\n",
    "            for dirpath , dirnames , filenames in os.walk (subdir): \n",
    "                for filename in filenames: \n",
    "                    img_f = os.path.join (dirpath, filename)\n",
    "                    img = plt.imread (img_f) \n",
    "                    \n",
    "                    fct (img, saveto , filename) #creates and saves mask\n",
    "                    ##or thr_iba1_confocal\n",
    "                    \n",
    "                    print (\"\\n\")"
   ]
  },
  {
   "cell_type": "code",
   "execution_count": null,
   "id": "ef9d2ef1",
   "metadata": {},
   "outputs": [],
   "source": [
    "rootdir_A = r\"D:\\IF\\CCI - Apotom\\Females\\Tifs\\F1_NF-GFAP-Iba1\"\n",
    "rootdir_C = r\"E:\\IF\\CCI - Confocal\\F5_males\\Tifs_max\"\n",
    "\n",
    "walkthrough (rootdir_A, thr_iba1_apotome)\n",
    "walkthrough (rootdir_C, thr_iba1_confocal)"
   ]
  }
 ],
 "metadata": {
  "kernelspec": {
   "display_name": "Python 3",
   "language": "python",
   "name": "python3"
  },
  "language_info": {
   "codemirror_mode": {
    "name": "ipython",
    "version": 3
   },
   "file_extension": ".py",
   "mimetype": "text/x-python",
   "name": "python",
   "nbconvert_exporter": "python",
   "pygments_lexer": "ipython3",
   "version": "3.8.8"
  }
 },
 "nbformat": 4,
 "nbformat_minor": 5
}
