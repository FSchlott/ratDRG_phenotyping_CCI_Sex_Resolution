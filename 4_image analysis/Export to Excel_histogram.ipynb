{
 "cells": [
  {
   "cell_type": "code",
   "execution_count": 3,
   "id": "cdf67d69-932e-4591-a88d-7917f8ae3a77",
   "metadata": {},
   "outputs": [],
   "source": [
    "import pandas as pd\n",
    "import json\n",
    "import os\n",
    "import re\n",
    "import numpy as np"
   ]
  },
  {
   "cell_type": "markdown",
   "id": "5c403195-f356-45e8-85b5-a0e66414508f",
   "metadata": {},
   "source": [
    "### adjust your analysis file and paths"
   ]
  },
  {
   "cell_type": "code",
   "execution_count": 5,
   "id": "81c9d898",
   "metadata": {},
   "outputs": [],
   "source": [
    "#myfilepath = \"enter/path/here\"\n",
    "myfilepath = r\"F3+6_neuron and tissue analysis\\neurons/\"\n",
    "import sys\n",
    "sys.path.append(myfilepath)  \n",
    "import analysis_hist #adjust file here"
   ]
  },
  {
   "cell_type": "code",
   "execution_count": 7,
   "id": "48072997",
   "metadata": {},
   "outputs": [],
   "source": [
    "#open all json result files\n",
    "#adjust files accordingly \n",
    "with open (myfilepath + \"F3_W1_M.json\") as f:\n",
    "    results_w1_m = json.load (f) \n",
    "    \n",
    "with open (myfilepath + \"F3_W5_M.json\") as f:\n",
    "    results_w5_m = json.load (f)\n",
    "    \n",
    "with open (myfilepath + \"F6_W1_F.json\") as f:\n",
    "    results_w1_f = json.load (f)   \n",
    " \n",
    "with open (myfilepath + \"F6_W5_F.json\") as f:\n",
    "    results_w5_f = json.load (f)"
   ]
  },
  {
   "cell_type": "markdown",
   "id": "fdbbd4a2-640f-4baa-9f8a-16d110bf30c4",
   "metadata": {},
   "source": [
    "## prepare data, IDs and functions"
   ]
  },
  {
   "cell_type": "code",
   "execution_count": 9,
   "id": "f3cdbf5d-8165-4fad-a463-7b1e082eabb1",
   "metadata": {},
   "outputs": [],
   "source": [
    "#set data in groups\n",
    "w1_m_il = analysis_hist.GroupData (results_w1_m, \"IL\")\n",
    "w1_m_cl = analysis_hist.GroupData (results_w1_m, \"CL\")\n",
    "w5_m_il = analysis_hist.GroupData (results_w5_m, \"IL\")\n",
    "w5_m_cl = analysis_hist.GroupData (results_w5_m, \"CL\")\n",
    "\n",
    "w1_f_il = analysis_hist.GroupData (results_w1_f, \"IL\" )\n",
    "w1_f_cl = analysis_hist.GroupData (results_w1_f, \"CL\" )\n",
    "w5_f_il = analysis_hist.GroupData (results_w5_f, \"IL\" )\n",
    "w5_f_cl = analysis_hist.GroupData (results_w5_f, \"CL\" )\n"
   ]
  },
  {
   "cell_type": "code",
   "execution_count": 11,
   "id": "3f118fb3-fd3b-44d4-819f-96fda050026a",
   "metadata": {},
   "outputs": [],
   "source": [
    "w1_m_nf_sizecounts_cl = np.mean(w1_m_cl.nf_sizecounts_allrats, axis=0)\n",
    "w1_m_nf_sizecounts_il = np.mean(w1_m_il.nf_sizecounts_allrats, axis=0)\n",
    "w1_m_ib4_sizecounts_il = np.mean(w1_m_il.ib4_sizecounts_allrats, axis=0)\n",
    "w1_m_ib4_sizecounts_cl = np.mean(w1_m_cl.ib4_sizecounts_allrats, axis=0)\n",
    "\n",
    "w5_m_nf_sizecounts_cl = np.mean(w5_m_cl.nf_sizecounts_allrats, axis=0)\n",
    "w5_m_nf_sizecounts_il = np.mean(w5_m_il.nf_sizecounts_allrats, axis=0)\n",
    "w5_m_ib4_sizecounts_il = np.mean(w5_m_il.ib4_sizecounts_allrats, axis=0)\n",
    "w5_m_ib4_sizecounts_cl = np.mean(w5_m_cl.ib4_sizecounts_allrats, axis=0)"
   ]
  },
  {
   "cell_type": "code",
   "execution_count": 13,
   "id": "56ff26ef-c557-40e6-9bab-5e8ea590eae0",
   "metadata": {},
   "outputs": [],
   "source": [
    "w1_f_nf_sizecounts_cl = np.mean(w1_f_cl.nf_sizecounts_allrats, axis=0)\n",
    "w1_f_nf_sizecounts_il = np.mean(w1_f_il.nf_sizecounts_allrats, axis=0)\n",
    "w1_f_ib4_sizecounts_il = np.mean(w1_f_il.ib4_sizecounts_allrats, axis=0)\n",
    "w1_f_ib4_sizecounts_cl = np.mean(w1_f_cl.ib4_sizecounts_allrats, axis=0)\n",
    "\n",
    "w5_f_nf_sizecounts_cl = np.mean(w5_f_cl.nf_sizecounts_allrats, axis=0)\n",
    "w5_f_nf_sizecounts_il = np.mean(w5_f_il.nf_sizecounts_allrats, axis=0)\n",
    "w5_f_ib4_sizecounts_il = np.mean(w5_f_il.ib4_sizecounts_allrats, axis=0)\n",
    "w5_f_ib4_sizecounts_cl = np.mean(w5_f_cl.ib4_sizecounts_allrats, axis=0)"
   ]
  },
  {
   "cell_type": "code",
   "execution_count": 21,
   "id": "4a2c0d72-86a4-415e-9e37-11390de3dcb4",
   "metadata": {},
   "outputs": [],
   "source": [
    "paths_1wm = w1_m_il.paths\n",
    "paths_5wm = w5_m_il.paths\n",
    "\n",
    "paths_1wf = w1_f_il.paths\n",
    "paths_5wf = w5_f_il.paths"
   ]
  },
  {
   "cell_type": "code",
   "execution_count": 23,
   "id": "045be1eb-6772-49d5-a356-fc5cc728abcb",
   "metadata": {},
   "outputs": [],
   "source": [
    "def find_IDs (path): \n",
    "    parts = path.split(os.sep)\n",
    "    rat = next((p for p in parts if re.match(r\"^R\\w+\", p)), None)\n",
    "    drg = next((p for p in parts if re.match(r\"^L\\d+\", p)), None)\n",
    "    if rat and drg:\n",
    "        return f\"{rat}_{drg}\"\n",
    "    return None"
   ]
  },
  {
   "cell_type": "code",
   "execution_count": 25,
   "id": "00cb89d6",
   "metadata": {},
   "outputs": [],
   "source": [
    "#for excel export: set rat IDs as they are in the json files\n",
    "IDs_1wm = [find_IDs(p) for p in paths_1wm if find_IDs(p) is not None]\n",
    "IDs_5wm = [find_IDs(p) for p in paths_5wm if find_IDs(p) is not None]\n",
    "\n",
    "IDs_1wf = [find_IDs(p) for p in paths_1wf if find_IDs(p) is not None]\n",
    "IDs_5wf = [find_IDs(p) for p in paths_5wf if find_IDs(p) is not None]"
   ]
  },
  {
   "cell_type": "markdown",
   "id": "9c2b0853-a0e1-483c-b5db-ece5cef45350",
   "metadata": {},
   "source": [
    "## define parameters and get files "
   ]
  },
  {
   "cell_type": "code",
   "execution_count": 33,
   "id": "4d552754-a214-4422-b5da-569e575f45ca",
   "metadata": {},
   "outputs": [],
   "source": [
    "def append_dct (IDs_L, gender, condition, param, group_cl, group_il):\n",
    "    groups = [(\"CL\", group_cl), (\"IL\", group_il)] \n",
    "    for i in IDs_L: \n",
    "            dct[\"ID\"].append (i)\n",
    "            dct[\"gender\"].append (gender)\n",
    "            dct[\"condition\"].append (condition)\n",
    "    \n",
    "    for label, group in groups:\n",
    "        data = getattr (group, param) \n",
    "        for row in data:\n",
    "            for i, value in enumerate(row):\n",
    "                bin_key = f\"{group.binsizes[i]} {label}\"\n",
    "                dct[bin_key].append(value)"
   ]
  },
  {
   "cell_type": "code",
   "execution_count": 37,
   "id": "8c7ecb09-931f-460a-9942-205d40955e36",
   "metadata": {},
   "outputs": [],
   "source": [
    "saveto = \"Excel files histogram/NF_new\"\n",
    "param = \"nf_sizecounts_allrats\"\n",
    "\n",
    "dct = {\"ID\" : [], \"gender\" : [], \"condition\": [] }\n",
    "\n",
    "groups = [(\"CL\", w1_m_cl), (\"IL\", w1_m_il)] #für zuordnung zur jeweiligen Seite. Welche gruppe egal, da alle gleich.  \n",
    "for label, group in groups: #immer bin CL und IL nebeneinander erstellen\n",
    "    for bin_name in group.binsizes[:-1]:\n",
    "        dct[f\"{bin_name} {label}\"] = []\n",
    "\n",
    "append_dct (IDs_1wm, \"M\", \"1W\", param, w1_m_il, w1_m_cl)\n",
    "append_dct (IDs_5wm, \"M\", \"5W\", param, w5_m_il, w5_m_cl)\n",
    "append_dct (IDs_1wf, \"F\", \"1W\", param, w1_f_il, w1_f_cl)\n",
    "append_dct (IDs_5wf, \"F\", \"5W\", param, w5_f_il, w5_f_cl)\n",
    "\n",
    "df = pd.DataFrame (dct)\n",
    "df.to_excel (saveto + \".xlsx\")"
   ]
  },
  {
   "cell_type": "code",
   "execution_count": null,
   "id": "7d95c9ff-29ef-49f8-8c40-e9c5f54272ef",
   "metadata": {},
   "outputs": [],
   "source": []
  },
  {
   "cell_type": "code",
   "execution_count": null,
   "id": "8b2a0142-9496-4980-8541-bf2c7d04fc31",
   "metadata": {},
   "outputs": [],
   "source": []
  }
 ],
 "metadata": {
  "kernelspec": {
   "display_name": "Python [conda env:base] *",
   "language": "python",
   "name": "conda-base-py"
  },
  "language_info": {
   "codemirror_mode": {
    "name": "ipython",
    "version": 3
   },
   "file_extension": ".py",
   "mimetype": "text/x-python",
   "name": "python",
   "nbconvert_exporter": "python",
   "pygments_lexer": "ipython3",
   "version": "3.12.7"
  }
 },
 "nbformat": 4,
 "nbformat_minor": 5
}
