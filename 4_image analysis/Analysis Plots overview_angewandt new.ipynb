{
 "cells": [
  {
   "cell_type": "code",
   "execution_count": null,
   "id": "81c9d898",
   "metadata": {},
   "outputs": [],
   "source": [
    "import numpy as np\n",
    "import matplotlib.pyplot as plt\n",
    "import json\n",
    "import seaborn as sns\n"
   ]
  },
  {
   "cell_type": "markdown",
   "id": "79cd9f22-af4f-4ac3-8a04-d250aa57c050",
   "metadata": {},
   "source": [
    "### adjust your file(paths)"
   ]
  },
  {
   "cell_type": "code",
   "execution_count": 3,
   "id": "deb52811-365b-4abe-a690-60aaa10e57da",
   "metadata": {},
   "outputs": [],
   "source": [
    "#myfilepath = \"enter/path/here\"\n",
    "myfilepath = r\"F2_males atf3 in mph and SGC/\"\n",
    "\n",
    "import sys\n",
    "sys.path.append(myfilepath)  \n",
    "import analysis_perDRG #adjust file here"
   ]
  },
  {
   "cell_type": "code",
   "execution_count": 5,
   "id": "48072997",
   "metadata": {},
   "outputs": [
    {
     "data": {
      "text/plain": [
       "'\\nwith open (myfilepath + \"F6_W1_F.json\") as f:\\n    results_W1_F = json.load (f)   \\n \\nwith open (myfilepath + \"F6_W5_F.json\") as f:\\n    results_W5_F = json.load (f)\\n'"
      ]
     },
     "execution_count": 5,
     "metadata": {},
     "output_type": "execute_result"
    }
   ],
   "source": [
    "#open all json result files\n",
    "#adjust files accordingly \n",
    "\n",
    "with open (myfilepath + \"F2_W1_M.json\") as f:\n",
    "    results_W1_M = json.load (f) \n",
    "    \n",
    "with open (myfilepath + \"F2_W5_M.json\") as f:\n",
    "    results_W5_M = json.load (f)\n",
    "\"\"\"\n",
    "with open (myfilepath + \"F6_W1_F.json\") as f:\n",
    "    results_W1_F = json.load (f)   \n",
    " \n",
    "with open (myfilepath + \"F6_W5_F.json\") as f:\n",
    "    results_W5_F = json.load (f)\n",
    "\"\"\""
   ]
  },
  {
   "cell_type": "markdown",
   "id": "4bc5edf5-b643-4466-9816-e2bc3f05f397",
   "metadata": {},
   "source": [
    "### set data"
   ]
  },
  {
   "cell_type": "markdown",
   "id": "e38cf53a-4361-41a2-aef3-e2ce60bdcab3",
   "metadata": {
    "jp-MarkdownHeadingCollapsed": true
   },
   "source": [
    "#### L4 and L5 together pooled"
   ]
  },
  {
   "cell_type": "code",
   "execution_count": null,
   "id": "c76caf1b-9469-4081-b710-1ffdf1ed8e49",
   "metadata": {},
   "outputs": [],
   "source": [
    "#set data in groups\n",
    "w5_il_m = analysis_perDRG.GroupData (results_w5_m, \"IL\")\n",
    "w5_cl_m = analysis_perDRG.GroupData (results_w5_m, \"CL\")\n",
    "w1_il_m = analysis_perDRG.GroupData (results_w1_m, \"IL\")\n",
    "w1_cl_m = analysis_perDRG.GroupData (results_w1_m, \"CL\")\n",
    "\n",
    "w5_il_f = analysis_perDRG.GroupData (results_w5_f, \"IL\")\n",
    "w5_cl_f = analysis_perDRG.GroupData (results_w5_f, \"CL\")\n",
    "w1_il_f = analysis_perDRG.GroupData (results_w1_f, \"IL\")\n",
    "w1_cl_f = analysis_perDRG.GroupData (results_w1_f, \"CL\")"
   ]
  },
  {
   "cell_type": "markdown",
   "id": "9f9604ab-dff9-4505-892a-fbea92fa4cc2",
   "metadata": {},
   "source": [
    "#### seperate L4 and L5"
   ]
  },
  {
   "cell_type": "code",
   "execution_count": 11,
   "id": "54d05e70",
   "metadata": {},
   "outputs": [
    {
     "name": "stderr",
     "output_type": "stream",
     "text": [
      "C:\\Users\\fesi9\\anaconda3\\Lib\\site-packages\\numpy\\core\\fromnumeric.py:3504: RuntimeWarning: Mean of empty slice.\n",
      "  return _methods._mean(a, axis=axis, dtype=dtype,\n",
      "C:\\Users\\fesi9\\anaconda3\\Lib\\site-packages\\numpy\\core\\_methods.py:129: RuntimeWarning: invalid value encountered in scalar divide\n",
      "  ret = ret.dtype.type(ret / rcount)\n"
     ]
    },
    {
     "data": {
      "text/plain": [
       "'\\nw5_f_il_l4 = analysis_perDRG.GroupData (results_W5_F, \"L4IL\" )\\nw5_f_cl_l4 = analysis_perDRG.GroupData (results_W5_F, \"L4CL\" )\\nw1_f_il_l4 = analysis_perDRG.GroupData (results_W1_F, \"L4IL\" )\\nw1_f_cl_l4 = analysis_perDRG.GroupData (results_W1_F, \"L4CL\" )\\n\\nw5_f_il_l5 = analysis_perDRG.GroupData (results_W5_F, \"L5IL\" )\\nw5_f_cl_l5 = analysis_perDRG.GroupData (results_W5_F, \"L5CL\" )\\nw1_f_il_l5 = analysis_perDRG.GroupData (results_W1_F, \"L5IL\" )\\nw1_f_cl_l5 = analysis_perDRG.GroupData (results_W1_F, \"L5CL\" )\\n'"
      ]
     },
     "execution_count": 11,
     "metadata": {},
     "output_type": "execute_result"
    }
   ],
   "source": [
    "#groups with distinction L4 and L5\n",
    "\n",
    "w5_m_il_l4 = analysis_perDRG.GroupData (results_W5_M, \"L4IL\", 5)\n",
    "w5_m_cl_l4 = analysis_perDRG.GroupData (results_W5_M, \"L4CL\", 5)\n",
    "w1_m_il_l4 = analysis_perDRG.GroupData (results_W1_M, \"L4IL\", 7)\n",
    "w1_m_cl_l4 = analysis_perDRG.GroupData (results_W1_M, \"L4CL\", 7)\n",
    "\n",
    "w5_m_il_l5 = analysis_perDRG.GroupData (results_W5_M, \"L5IL\", 5)\n",
    "w5_m_cl_l5 = analysis_perDRG.GroupData (results_W5_M, \"L5CL\", 5)\n",
    "w1_m_il_l5 = analysis_perDRG.GroupData (results_W1_M, \"L5IL\", 7)\n",
    "w1_m_cl_l5 = analysis_perDRG.GroupData (results_W1_M, \"L5CL\", 7)\n",
    "\"\"\"\n",
    "w5_f_il_l4 = analysis_perDRG.GroupData (results_W5_F, \"L4IL\" )\n",
    "w5_f_cl_l4 = analysis_perDRG.GroupData (results_W5_F, \"L4CL\" )\n",
    "w1_f_il_l4 = analysis_perDRG.GroupData (results_W1_F, \"L4IL\" )\n",
    "w1_f_cl_l4 = analysis_perDRG.GroupData (results_W1_F, \"L4CL\" )\n",
    "\n",
    "w5_f_il_l5 = analysis_perDRG.GroupData (results_W5_F, \"L5IL\" )\n",
    "w5_f_cl_l5 = analysis_perDRG.GroupData (results_W5_F, \"L5CL\" )\n",
    "w1_f_il_l5 = analysis_perDRG.GroupData (results_W1_F, \"L5IL\" )\n",
    "w1_f_cl_l5 = analysis_perDRG.GroupData (results_W1_F, \"L5CL\" )\n",
    "\"\"\""
   ]
  },
  {
   "cell_type": "markdown",
   "id": "7b026113-456b-4092-aafc-45c4160164aa",
   "metadata": {},
   "source": [
    "#### quick data check example"
   ]
  },
  {
   "cell_type": "code",
   "execution_count": 12,
   "id": "3795954f-9603-473d-b906-2b6ff0da6fcb",
   "metadata": {},
   "outputs": [
    {
     "data": {
      "text/plain": [
       "[9.58711122576398,\n",
       " 10.219344719338931,\n",
       " 11.470242804793669,\n",
       " 5.903350468878515,\n",
       " 9.695512951445629,\n",
       " 9.424967194950385]"
      ]
     },
     "execution_count": 12,
     "metadata": {},
     "output_type": "execute_result"
    }
   ],
   "source": [
    "w1_m_il_l4.iba1_per_nra_allrats"
   ]
  },
  {
   "cell_type": "markdown",
   "id": "b041730d-227a-4e66-9e3a-901d294da785",
   "metadata": {},
   "source": [
    "# functions for getting values per rat or DRG, statistics"
   ]
  },
  {
   "cell_type": "markdown",
   "id": "2205322d-0ae1-413c-8bf3-b5553eeaa9f7",
   "metadata": {},
   "source": [
    "#### get values / Dots per DRG"
   ]
  },
  {
   "cell_type": "code",
   "execution_count": 13,
   "id": "e40cfaef",
   "metadata": {},
   "outputs": [],
   "source": [
    "#generates a value per DRG each\n",
    "def get_pooled (group_l4, group_l5, feature):\n",
    "    l4 = getattr (group_l4, feature)\n",
    "    l5 = getattr (group_l5, feature)\n",
    "    L_pooled = []\n",
    "    for i in range (len(l4)):\n",
    "        L_pooled.append (l4[i])\n",
    "        L_pooled.append (l5[i])\n",
    "    return (L_pooled)"
   ]
  },
  {
   "cell_type": "markdown",
   "id": "2829e25f-e931-40d9-86df-ed31ee0e2cb9",
   "metadata": {},
   "source": [
    "# Boxplots"
   ]
  },
  {
   "cell_type": "markdown",
   "id": "109e26d7-ad6a-44e2-838f-aec1c29c13a6",
   "metadata": {},
   "source": [
    "### all conditions"
   ]
  },
  {
   "cell_type": "code",
   "execution_count": null,
   "id": "70edd6a9",
   "metadata": {},
   "outputs": [],
   "source": [
    "\n",
    "#plots all Cl, line, all IL: M1W, F1W, M5W, F5W\n",
    "\n",
    "def plot_all_conditions_MtoF_1vs5W (feature, ylabel, saveto, ylim=None):\n",
    "    w1_m_il_data = get_pooled (w1_m_il_l4, w1_m_il_l5, feature)\n",
    "    w1_m_cl_data = get_pooled (w1_m_cl_l4, w1_m_cl_l5, feature)\n",
    "    w5_m_il_data = get_pooled (w5_m_il_l4, w5_m_il_l5, feature)\n",
    "    w5_m_cl_data = get_pooled (w5_m_cl_l4, w5_m_cl_l5, feature)\n",
    "    \n",
    "    w1_f_il_data = get_pooled (w1_f_il_l4, w1_f_il_l5, feature)\n",
    "    w1_f_cl_data = get_pooled (w1_f_cl_l4, w1_f_cl_l5, feature)\n",
    "    w5_f_il_data = get_pooled (w5_f_il_l4, w5_f_il_l5, feature)\n",
    "    w5_f_cl_data = get_pooled (w5_f_cl_l4, w5_f_cl_l5, feature)\n",
    "\n",
    "    data = [np.array([np.nan]), w1_m_cl_data, w5_m_cl_data, np.array([np.nan]), w1_m_il_data, w5_m_il_data, np.array([np.nan]),\n",
    "                      w1_f_cl_data, w5_f_cl_data, np.array([np.nan]), w1_f_il_data, w5_f_il_data, np.array([np.nan])]\n",
    "    \n",
    "    plt.figure(figsize=(12,8))\n",
    "    \n",
    "    labels = [\"1W M CL\",\"5W M CL\",  \"\", \n",
    "              \"1W M IL\", \"5W M IL\", \"\", \n",
    "              \"1W F CL\", \"5W F CL\", \"\",  \n",
    "              \"1W F IL\", \"5W F IL\", \"\"]\n",
    "    \n",
    "    \n",
    "    c_L2 = [\"k\", '#79cfd8', '#b2ef7d', #MCL1W, #MCL5W\n",
    "            \"k\", '#37abb8', '#6cad31', #MIL1W, #MIL5W\n",
    "            \"k\", '#ff99ff', '#fab38a', #FCL1W, #FCL5W\n",
    "            \"k\", \"#ff66ff\", \"#f77732\", #FIL1W, #FIL5W\n",
    "            \"k\"]  \n",
    "    \n",
    "    c ='k'\n",
    "    alpha=1\n",
    "    standard_props = {\"color\":c, \"alpha\":alpha, \"linewidth\":2.5}\n",
    "    markers= ['D','o']\n",
    "    line_props = standard_props\n",
    "    bbox_props = {**standard_props, 'facecolor': 'w', 'edgecolor':c} #dict(edgecolor=c, alpha=alpha, linewidth=5, facecolor='w')\n",
    "    median_props = standard_props\n",
    "    cap_props = standard_props\n",
    "    linewidth = 3\n",
    "    fontsize = 30\n",
    "    \n",
    "    ax = plt.gca()\n",
    "    ax.spines[\"top\"].set_visible(False)\n",
    "    ax.spines[\"right\"].set_visible(False)\n",
    "    ax.spines['left'].set_linewidth(linewidth)\n",
    "    ax.spines['bottom'].set_linewidth(linewidth)\n",
    "    ax.tick_params(axis = \"x\", length=0)\n",
    "    ax.tick_params(axis = \"y\", length=10, width=linewidth)\n",
    "    if ylim is not None:\n",
    "        ax.set_ylim (ylim)\n",
    "    plt.xticks(fontname=\"Arial\", fontsize=fontsize, rotation = 45)\n",
    "    plt.yticks(fontname=\"Arial\", fontsize=fontsize)\n",
    "    \n",
    "    plt.ylabel(ylabel, fontname=\"Arial\", fontsize=fontsize+8)\n",
    "    #plt.axvline(3, c='gray', linewidth=4, ls='--')\n",
    "    plt.axvline(6, c='gray', linewidth= linewidth, ls='--')\n",
    "    #plt.axvline(9, c='gray', linewidth=4, ls='--')\n",
    "\n",
    "    ax.set_xticklabels(labels, fontname=\"Arial\", fontsize=24)\n",
    "    \n",
    "     #linien farbig\n",
    "    for i in range(len(data)):\n",
    "        if data[i] is not None and not np.isnan(data[i]).all():\n",
    "            sns.boxplot(data=[data[i]], positions=[i], width=0.9, \n",
    "                        boxprops=dict(edgecolor=c_L2[i], facecolor='white', linewidth=2.5), \n",
    "                        whiskerprops=dict(color=c_L2[i], linewidth=2.5), \n",
    "                        capprops=dict(color=c_L2[i], linewidth=2.5), \n",
    "                        medianprops=dict(color=c_L2[i], linewidth=2.5),\n",
    "                        fliersize=0, showcaps=True, patch_artist=True)\n",
    "\n",
    "    sns.stripplot(data=data, jitter=0.3, dodge=False, size=8, marker='o', palette=c_L2, alpha = 1, \n",
    "                 edgecolor='black', linewidth=0.7)                    \n",
    "\n",
    "    \n",
    "    plt.savefig(saveto + ylabel+ '.png', bbox_inches = \"tight\")\n",
    "    plt.show()"
   ]
  },
  {
   "cell_type": "markdown",
   "id": "f62eaba8-6466-42ed-a260-f449ca52ab90",
   "metadata": {},
   "source": [
    "#### CL to IL Mvs F colors pink and blue"
   ]
  },
  {
   "cell_type": "code",
   "execution_count": 17,
   "id": "595739fc-1550-4b58-8898-60deaa56fa37",
   "metadata": {},
   "outputs": [],
   "source": [
    "def plot_all_conditions_CLtoIL_MvsF (feature, ylabel, saveto, ylim=None):\n",
    "    w1_m_il_data = get_pooled (w1_m_il_l4, w1_m_il_l5, feature)\n",
    "    w1_m_cl_data = get_pooled (w1_m_cl_l4, w1_m_cl_l5, feature)\n",
    "    w5_m_il_data = get_pooled (w5_m_il_l4, w5_m_il_l5, feature)\n",
    "    w5_m_cl_data = get_pooled (w5_m_cl_l4, w5_m_cl_l5, feature)\n",
    "    \n",
    "    w1_f_il_data = get_pooled (w1_f_il_l4, w1_f_il_l5, feature)\n",
    "    w1_f_cl_data = get_pooled (w1_f_cl_l4, w1_f_cl_l5, feature)\n",
    "    w5_f_il_data = get_pooled (w5_f_il_l4, w5_f_il_l5, feature)\n",
    "    w5_f_cl_data = get_pooled (w5_f_cl_l4, w5_f_cl_l5, feature)\n",
    "    \n",
    "    plt.figure(figsize=(12,8))\n",
    "    \n",
    "    labels = [\"1W M CL\", \"1W F CL\",\"\", \"5W M CL\", \"5W F CL\", \"\", \"1W M IL\", \"1W F IL\",\"\", \"5W M IL\", \"5W F IL\"]\n",
    "    \n",
    "    c_L = [\"k\", '#AFCAFF', \"#FBCDF3\", \"k\", '#AFCAFF', \"#FBCDF3\", \"k\", \n",
    "           '#6699FF', \"#FF3399\", \"k\", '#6699FF', \"#FF3399\"]\n",
    "\n",
    "    data= data=[np.array([np.nan]), w1_m_cl_data, w1_f_cl_data, np.array([np.nan]), w5_m_cl_data, w5_f_cl_data, np.array([np.nan]),\n",
    "                      w1_m_il_data, w1_f_il_data, np.array([np.nan]), w5_m_il_data, w5_f_il_data, np.array([np.nan])]\n",
    "    \n",
    "    c ='k'\n",
    "    alpha=1\n",
    "    standard_props = {\"color\":c, \"alpha\":alpha, \"linewidth\":2.5}\n",
    "    markers= ['D','o']\n",
    "    line_props = standard_props\n",
    "    bbox_props = {**standard_props, 'facecolor': 'w', 'edgecolor':c} #dict(edgecolor=c, alpha=alpha, linewidth=5, facecolor='w')\n",
    "    median_props = standard_props\n",
    "    cap_props = standard_props\n",
    "    linewidth = 3\n",
    "    fontsize = 30\n",
    "    \n",
    "    ax = plt.gca()\n",
    "    ax.spines[\"top\"].set_visible(False)\n",
    "    ax.spines[\"right\"].set_visible(False)\n",
    "    ax.spines['left'].set_linewidth(linewidth)\n",
    "    ax.spines['bottom'].set_linewidth(linewidth)\n",
    "    ax.tick_params(axis = \"x\", length=0)\n",
    "    ax.tick_params(axis = \"y\", length=10, width=linewidth)\n",
    "    if ylim is not None:\n",
    "        ax.set_ylim (ylim)\n",
    "    plt.xticks(fontname=\"Arial\", fontsize=fontsize, rotation = 45)\n",
    "    plt.yticks(fontname=\"Arial\", fontsize=fontsize)\n",
    "    \n",
    "    plt.ylabel(ylabel, fontname=\"Arial\", fontsize=fontsize+8)\n",
    "    #plt.axvline(3, c='gray', linewidth=4, ls='--')\n",
    "    plt.axvline(6, c='gray', linewidth= linewidth, ls='--')\n",
    "    #plt.axvline(9, c='gray', linewidth=4, ls='--')\n",
    "\n",
    "\n",
    "    for i in range(len(data)):\n",
    "        if data[i] is not None and not np.isnan(data[i]).all():\n",
    "            sns.boxplot(data=[data[i]], positions=[i], width=0.9, \n",
    "                        boxprops=dict(edgecolor=c_L[i], facecolor='white', linewidth=2.5), \n",
    "                        whiskerprops=dict(color=c_L[i], linewidth=2.5), \n",
    "                        capprops=dict(color=c_L[i], linewidth=2.5), \n",
    "                        medianprops=dict(color=c_L[i], linewidth=2.5),\n",
    "                        fliersize=0, showcaps=True, patch_artist=True)\n",
    "            \n",
    "    sns.stripplot(data=data, jitter=0.3, dodge=False, size=8, marker='o', palette=c_L, alpha = 1, \n",
    "                 edgecolor='black', linewidth=0.7)   \n",
    "    \n",
    "    ax.set_xticklabels(labels, fontname=\"Arial\", fontsize=24)\n",
    "    \n",
    "    plt.savefig(saveto + 'CLtoIL_DRG_M-F ---- '+ylabel+'.png', bbox_inches = \"tight\")\n",
    "    plt.show()"
   ]
  },
  {
   "cell_type": "markdown",
   "id": "d808e4ce-6700-419b-8dca-fd151ae22935",
   "metadata": {},
   "source": [
    "### only males "
   ]
  },
  {
   "cell_type": "code",
   "execution_count": 15,
   "id": "9f2a2b45-1e84-4877-9167-e45749f633bf",
   "metadata": {},
   "outputs": [],
   "source": [
    "def plot_onlymales_CLtoIL (feature, ylabel, saveto, ylim=None):\n",
    "    w1_m_il_data = get_pooled (w1_m_il_l4, w1_m_il_l5, feature)\n",
    "    w1_m_cl_data = get_pooled (w1_m_cl_l4, w1_m_cl_l5, feature)\n",
    "    w5_m_il_data = get_pooled (w5_m_il_l4, w5_m_il_l5, feature)\n",
    "    w5_m_cl_data = get_pooled (w5_m_cl_l4, w5_m_cl_l5, feature)\n",
    "    \n",
    "    plt.figure(figsize=(6,8))\n",
    "    \n",
    "    labels = [\"1W M CL\", \"5W M CL\", \"\", \"1W M IL\", \"5W M IL\"]\n",
    "    \n",
    "    c_L = [\"k\", \"#79cfd8\", \"#b2ef7d\", \"k\", \"#37abb8\", \"#6cad31\"] \n",
    "\n",
    "    data = [np.array([np.nan]), w1_m_cl_data, w5_m_cl_data, np.array([np.nan]),\n",
    "                      w1_m_il_data, w5_m_il_data, np.array([np.nan])]\n",
    "    \n",
    "    c ='k'\n",
    "    alpha=1\n",
    "    standard_props = {\"color\":c, \"alpha\":alpha, \"linewidth\":2.5}\n",
    "    markers= ['D','o']\n",
    "    line_props = standard_props\n",
    "    bbox_props = {**standard_props, 'facecolor': 'w', 'edgecolor':c} #dict(edgecolor=c, alpha=alpha, linewidth=5, facecolor='w')\n",
    "    median_props = standard_props\n",
    "    cap_props = standard_props\n",
    "    linewidth = 3\n",
    "    fontsize = 30\n",
    "    \n",
    "    ax = plt.gca()\n",
    "    ax.spines[\"top\"].set_visible(False)\n",
    "    ax.spines[\"right\"].set_visible(False)\n",
    "    ax.spines['left'].set_linewidth(linewidth)\n",
    "    ax.spines['bottom'].set_linewidth(linewidth)\n",
    "    ax.tick_params(axis = \"x\", length=0)\n",
    "    ax.tick_params(axis = \"y\", length=10, width=linewidth)\n",
    "    if ylim is not None:\n",
    "        ax.set_ylim (ylim)\n",
    "    plt.xticks(fontname=\"Arial\", fontsize=fontsize, rotation = 45)\n",
    "    plt.yticks(fontname=\"Arial\", fontsize=fontsize)\n",
    "    \n",
    "    plt.ylabel(ylabel, fontname=\"Arial\", fontsize=fontsize+8)\n",
    "    plt.axvline(3, c='gray', linewidth= linewidth, ls='--')\n",
    "\n",
    "    for i in range(len(data)):\n",
    "        if data[i] is not None and not np.isnan(data[i]).all():\n",
    "            sns.boxplot(data=[data[i]], positions=[i], width=0.9, \n",
    "                        boxprops=dict(edgecolor=c_L[i], facecolor='white', linewidth=2.5), \n",
    "                        whiskerprops=dict(color=c_L[i], linewidth=2.5), \n",
    "                        capprops=dict(color=c_L[i], linewidth=2.5), \n",
    "                        medianprops=dict(color=c_L[i], linewidth=2.5),\n",
    "                        fliersize=0, showcaps=True, patch_artist=True)\n",
    "    sns.stripplot(data=data\n",
    "                  , jitter=0.3, dodge=False, size=8, marker='o', palette=c_L, alpha = 1, \n",
    "                  edgecolor='black', linewidth=0.7)\n",
    "    \n",
    "    ax.set_xticklabels(labels, fontname=\"Arial\", fontsize=24)\n",
    "    \n",
    "    plt.savefig(saveto +ylabel+'.png', bbox_inches = \"tight\")\n",
    "    plt.show()"
   ]
  },
  {
   "cell_type": "code",
   "execution_count": 79,
   "id": "3b6028a8-d929-4c01-942a-c0de5df28487",
   "metadata": {},
   "outputs": [],
   "source": [
    "def plot_onlymales_ATF3split (feature_pos, feature_neg, ylabel, saveto, ylim=None, figsize = (6,8)):\n",
    "    w1_m_pos_data = get_pooled(w1_m_il_l4, w1_m_il_l5, feature_pos)\n",
    "    w1_m_neg_data = get_pooled(w1_m_il_l4, w1_m_il_l5, feature_neg)\n",
    "    w5_m_pos_data = get_pooled(w5_m_il_l4, w5_m_il_l5, feature_pos)\n",
    "    w5_m_neg_data = get_pooled(w5_m_il_l4, w5_m_il_l5, feature_neg)\n",
    "    \n",
    "    plt.figure(figsize=figsize)\n",
    "    \n",
    "    labels = [\"1W ATF3-\", \"1W ATF3+\", \"\", \"5W ATF3-\", \"5W ATF3+\"]\n",
    "    \n",
    "    c_L = [\"k\", \"#79cfd8\", \"#37abb8\", \"k\", \"#b2ef7d\", \"#6cad31\"]  \n",
    "    data = [np.array([np.nan]), w1_m_neg_data, w1_m_pos_data, np.array([np.nan]),\n",
    "                      w5_m_neg_data, w5_m_pos_data, np.array([np.nan])]\n",
    "    \n",
    "    c ='k'\n",
    "    alpha=1\n",
    "    standard_props = {\"color\":c, \"alpha\":alpha, \"linewidth\":2.5}\n",
    "    markers= ['D','o']\n",
    "    line_props = standard_props\n",
    "    bbox_props = {**standard_props, 'facecolor': 'w', 'edgecolor':c} #dict(edgecolor=c, alpha=alpha, linewidth=5, facecolor='w')\n",
    "    median_props = standard_props\n",
    "    cap_props = standard_props\n",
    "    linewidth = 3\n",
    "    fontsize = 30\n",
    "    \n",
    "    ax = plt.gca()\n",
    "    ax.spines[\"top\"].set_visible(False)\n",
    "    ax.spines[\"right\"].set_visible(False)\n",
    "    ax.spines['left'].set_linewidth(linewidth)\n",
    "    ax.spines['bottom'].set_linewidth(linewidth)\n",
    "    ax.tick_params(axis = \"x\", length=0)\n",
    "    ax.tick_params(axis = \"y\", length=10, width=linewidth)\n",
    "    if ylim is not None:\n",
    "        ax.set_ylim (ylim)\n",
    "    plt.xticks(fontname=\"Arial\", fontsize=fontsize, rotation = 45)\n",
    "    plt.yticks(fontname=\"Arial\", fontsize=fontsize)\n",
    "    \n",
    "    plt.ylabel(ylabel, fontname=\"Arial\", fontsize=fontsize+8)\n",
    "    plt.axvline(3, c='gray', linewidth= linewidth, ls='--')\n",
    "\n",
    "    for i in range(len(data)):\n",
    "        if data[i] is not None and not np.isnan(data[i]).all():\n",
    "            sns.boxplot(data=[data[i]], positions=[i], width=0.9, \n",
    "                        boxprops=dict(edgecolor=c_L[i], facecolor='white', linewidth=2.5), \n",
    "                        whiskerprops=dict(color=c_L[i], linewidth=2.5), \n",
    "                        capprops=dict(color=c_L[i], linewidth=2.5), \n",
    "                        medianprops=dict(color=c_L[i], linewidth=2.5),\n",
    "                        fliersize=0, showcaps=True, patch_artist=True)\n",
    "    sns.stripplot(data=data\n",
    "                  , jitter=0.3, dodge=False, size=8, marker='o', palette=c_L, alpha = 1, \n",
    "                    edgecolor='black', linewidth=0.7)\n",
    "    \n",
    "    ax.set_xticklabels(labels, fontname=\"Arial\", fontsize=24)\n",
    "    \n",
    "    plt.savefig(saveto + 'ATF3split -- '+ylabel+'.png', bbox_inches = \"tight\")\n",
    "    plt.show()"
   ]
  },
  {
   "cell_type": "markdown",
   "id": "aaf5901e-ceff-424c-a5a7-82a7db7b7b2f",
   "metadata": {},
   "source": [
    "## Use plot "
   ]
  },
  {
   "cell_type": "code",
   "execution_count": 87,
   "id": "f28504aa",
   "metadata": {},
   "outputs": [
    {
     "name": "stderr",
     "output_type": "stream",
     "text": [
      "C:\\Users\\fesi9\\AppData\\Local\\Temp\\ipykernel_22832\\2954498985.py:49: UserWarning: \n",
      "The palette list has fewer values (6) than needed (7) and will cycle, which may produce an uninterpretable plot.\n",
      "  sns.stripplot(data=data\n",
      "C:\\Users\\fesi9\\AppData\\Local\\Temp\\ipykernel_22832\\2954498985.py:53: UserWarning: set_ticklabels() should only be used with a fixed number of ticks, i.e. after set_ticks() or using a FixedLocator.\n",
      "  ax.set_xticklabels(labels, fontname=\"Arial\", fontsize=24)\n"
     ]
    },
    {
     "data": {
      "image/png": "[encoded data removed]",
      "text/plain": [
       "<Figure size 600x800 with 1 Axes>"
      ]
     },
     "metadata": {},
     "output_type": "display_data"
    }
   ],
   "source": [
    "root= r\"C:\\Users\\fesi9\\OneDrive\\Dokumente\\Uni\\PhD\\1- ResolvePAIN P9\\Feli CCI DRG Paper\\Data analysis\\4_image analysis/plots June25/\"\n",
    "saveto = root + \"FigS7 -- F2 -- \"\n",
    "#parameter = \"atf3_neg_anz_allrats\"\n",
    "feature_pos = \"gs_neuronratio_borders_atf3_allrats\"\n",
    "feature_neg = \"gs_neuronratio_borders_atf3_neg_allrats\"\n",
    "label = \"Neurons touched by GS ATF3+- (%)\"\n",
    "ylim = (0, 100)\n",
    "#ylim = None \n",
    "\n",
    "#plot_all_conditions_MtoF_1vs5W (parameter, label, saveto, ylim = ylim)\n",
    "#plot_all_conditions_CLtoIL_MvsF (parameter, label, saveto, ylim = ylim)\n",
    "plot_onlymales_ATF3split (feature_pos, feature_neg, label, saveto, ylim = ylim)"
   ]
  }
 ],
 "metadata": {
  "kernelspec": {
   "display_name": "Python [conda env:base] *",
   "language": "python",
   "name": "conda-base-py"
  },
  "language_info": {
   "codemirror_mode": {
    "name": "ipython",
    "version": 3
   },
   "file_extension": ".py",
   "mimetype": "text/x-python",
   "name": "python",
   "nbconvert_exporter": "python",
   "pygments_lexer": "ipython3",
   "version": "3.12.7"
  }
 },
 "nbformat": 4,
 "nbformat_minor": 5
}
