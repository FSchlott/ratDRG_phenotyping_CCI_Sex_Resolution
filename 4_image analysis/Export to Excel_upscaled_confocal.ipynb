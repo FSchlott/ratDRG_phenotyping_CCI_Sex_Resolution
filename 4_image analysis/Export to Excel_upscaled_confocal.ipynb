{
 "cells": [
  {
   "cell_type": "code",
   "execution_count": 51,
   "id": "cdf67d69-932e-4591-a88d-7917f8ae3a77",
   "metadata": {},
   "outputs": [],
   "source": [
    "import pandas as pd\n",
    "import json\n",
    "import os\n",
    "import re"
   ]
  },
  {
   "cell_type": "markdown",
   "id": "5c403195-f356-45e8-85b5-a0e66414508f",
   "metadata": {},
   "source": [
    "### adjust your analysis file and paths"
   ]
  },
  {
   "cell_type": "code",
   "execution_count": 35,
   "id": "81c9d898",
   "metadata": {},
   "outputs": [],
   "source": [
    "#myfilepath = \"enter/path/here\"\n",
    "myfilepath = r\"F5_macrophage and SGC confocal/\"\n",
    "import sys\n",
    "sys.path.append(myfilepath)  \n",
    "import analysis_perDRG_F5_seperate_images #adjust file here"
   ]
  },
  {
   "cell_type": "code",
   "execution_count": 37,
   "id": "48072997",
   "metadata": {},
   "outputs": [],
   "source": [
    "#open all json result files\n",
    "#adjust files accordingly \n",
    "with open (myfilepath + \"F5_W5_M.json\") as f:\n",
    "    results_w5_m = json.load (f)\n",
    "    \n",
    "with open (myfilepath + \"F5_W1_M.json\") as f:    \n",
    "    results_w1_m = json.load (f)\n",
    "      \n",
    "with open (myfilepath + \"F5_W1_F.json\") as f:\n",
    "    results_w1_f = json.load (f)\n",
    "    \n",
    "with open (myfilepath + \"F5_W5_F.json\") as f:\n",
    "    results_w5_f = json.load (f)\n"
   ]
  },
  {
   "cell_type": "markdown",
   "id": "fdbbd4a2-640f-4baa-9f8a-16d110bf30c4",
   "metadata": {},
   "source": [
    "## prepare data, IDs and functions"
   ]
  },
  {
   "cell_type": "code",
   "execution_count": 39,
   "id": "f3cdbf5d-8165-4fad-a463-7b1e082eabb1",
   "metadata": {},
   "outputs": [],
   "source": [
    "#set data in groups\n",
    "\n",
    "w5_f_il = analysis_perDRG_F5_seperate_images.GroupData (results_w5_f, \"IL\" )\n",
    "w5_f_cl = analysis_perDRG_F5_seperate_images.GroupData (results_w5_f, \"CL\" )\n",
    "w1_f_il = analysis_perDRG_F5_seperate_images.GroupData (results_w1_f, \"IL\" )\n",
    "w1_f_cl = analysis_perDRG_F5_seperate_images.GroupData (results_w1_f, \"CL\" )\n",
    "\n",
    "w5_m_il = analysis_perDRG_F5_seperate_images.GroupData (results_w5_m, \"IL\")\n",
    "w5_m_cl = analysis_perDRG_F5_seperate_images.GroupData (results_w5_m, \"CL\")\n",
    "w1_m_il = analysis_perDRG_F5_seperate_images.GroupData (results_w1_m, \"IL\")\n",
    "w1_m_cl = analysis_perDRG_F5_seperate_images.GroupData (results_w1_m, \"CL\")"
   ]
  },
  {
   "cell_type": "code",
   "execution_count": 43,
   "id": "4a2c0d72-86a4-415e-9e37-11390de3dcb4",
   "metadata": {},
   "outputs": [],
   "source": [
    "paths_1wf = w1_f_il.paths\n",
    "paths_5wf = w5_f_il.paths\n",
    "paths_1wm = w1_m_il.paths\n",
    "paths_5wm = w5_m_il.paths"
   ]
  },
  {
   "cell_type": "code",
   "execution_count": 45,
   "id": "045be1eb-6772-49d5-a356-fc5cc728abcb",
   "metadata": {},
   "outputs": [],
   "source": [
    "def find_IDs (path): \n",
    "    parts = path.split(os.sep)\n",
    "    rat = next((p for p in parts if re.match(r\"^R\\w+\", p)), None)\n",
    "    return f\"{rat}\""
   ]
  },
  {
   "cell_type": "code",
   "execution_count": 47,
   "id": "00cb89d6",
   "metadata": {},
   "outputs": [],
   "source": [
    "#for excel export: set rat IDs as they are in the json files\n",
    "IDs_1wf = [find_IDs(p) for p in paths_1wf if find_IDs(p) is not None]\n",
    "IDs_5wf = [find_IDs(p) for p in paths_5wf if find_IDs(p) is not None]\n",
    "IDs_1wm = [find_IDs(p) for p in paths_1wm if find_IDs(p) is not None]\n",
    "IDs_5wm = [find_IDs(p) for p in paths_5wm if find_IDs(p) is not None]"
   ]
  },
  {
   "cell_type": "code",
   "execution_count": 61,
   "id": "f4bd8056-63a4-49b3-a8a4-7338bb6aa5c1",
   "metadata": {},
   "outputs": [],
   "source": [
    "def append_dct_confocal(IDs_L, gender, condition, group_il, group_cl, params):\n",
    "    \n",
    "    for i, rat_id in enumerate(IDs_L):\n",
    "        #print(rat_id)  \n",
    "        for x in range (6):\n",
    "            #print (x)\n",
    "            dct[\"ID\"].append(rat_id)\n",
    "            #print (\"ID:\" , rat_id)\n",
    "            dct[\"gender\"].append(gender)\n",
    "            dct[\"condition\"].append(condition)\n",
    "        \n",
    "        for pn, pname_full, label in params:\n",
    "            il_vals = getattr(group_il, pname_full)[i]\n",
    "            cl_vals = getattr(group_cl, pname_full)[i]\n",
    "\n",
    "            for img_idx in range(6):\n",
    "                dct[f\"{pn} name\"].append(label)\n",
    "                #print (f\"{pn} name\" ,label)\n",
    "                dct[f\"{pn} IL\"].append(il_vals[img_idx])\n",
    "                #print (f\"{pn} IL\",il_vals[img_idx])\n",
    "                dct[f\"{pn} CL\"].append(cl_vals[img_idx])\n",
    "                #print (f\"{pn} CL\" ,cl_vals[img_idx])\n",
    "            #print (\"\\n\")"
   ]
  },
  {
   "cell_type": "markdown",
   "id": "9c2b0853-a0e1-483c-b5db-ece5cef45350",
   "metadata": {},
   "source": [
    "## define parameters and get files "
   ]
  },
  {
   "cell_type": "code",
   "execution_count": 63,
   "id": "b7bd9010",
   "metadata": {},
   "outputs": [],
   "source": [
    "#adjust your export parameters\n",
    "saveto = \"Excel files/F5/\"\n",
    "figure = \"Thesis --\"\n",
    "name = \"inv and dil pct iba1 and fabp7\"\n",
    "\n",
    "params = [ (\"P1\", \"inv_pct_iba1_allrats\", \"Iba1 per inv\")\n",
    "          ,(\"P2\", \"dil1_pct_iba1_allrats\", \"Iba1 per dil1\")\n",
    "          ,(\"P3\", \"dil2_pct_iba1_allrats\", \"Iba1 per dil2\")\n",
    "        \n",
    "          ,(\"P4\", \"inv_pct_fabp7_allrats\", \"fabp7 per inv\")\n",
    "          ,(\"P5\", \"dil1_pct_fabp7_allrats\", \"fabp7 per dil1\")\n",
    "          ,(\"P6\", \"dil2_pct_fabp7_allrats\", \"fabp7 per dil2\")\n",
    "\n",
    "         #,(\"P7\", \"gs_iba1_proximity_allrats\", \"Iba1 per GS - Proximity\")\n",
    "\n",
    "         ]\n",
    "\n",
    "#create empty dictionary\n",
    "dct = {\"ID\" : [], \"gender\" : [], \"condition\": [] \n",
    "       ,\"P1 name\": [], \"P1 IL\": [], \"P1 CL\" : []\n",
    "       ,\"P2 name\": [], \"P2 IL\": [], \"P2 CL\" : []\n",
    "       ,\"P3 name\": [], \"P3 IL\": [], \"P3 CL\" : []\n",
    "       ,\"P4 name\": [], \"P4 IL\": [], \"P4 CL\" : []\n",
    "       ,\"P5 name\": [], \"P5 IL\": [], \"P5 CL\" : []\n",
    "       ,\"P6 name\": [], \"P6 IL\": [], \"P6 CL\" : []\n",
    "       #,\"P7 name\": [], \"P7 IL\": [], \"P7 CL\" : []\n",
    "      }\n",
    "\n",
    "#ID_L, gender, condition, group_il, group_cl, p1_name, p1\n",
    "append_dct_confocal (IDs_1wm, \"M\", \"1W\", w1_m_il, w1_m_cl, params)\n",
    "append_dct_confocal (IDs_1wf, \"F\", \"1W\", w1_f_il, w1_f_cl, params)\n",
    "append_dct_confocal (IDs_5wm, \"M\", \"5W\", w5_m_il, w5_m_cl, params)\n",
    "append_dct_confocal (IDs_5wf, \"F\", \"5W\", w5_f_il, w5_f_cl, params)\n",
    "df = pd.DataFrame (dct)\n",
    "#df_mean = group_by_animal (df)\n",
    "df.to_excel (saveto + figure + name +\".xlsx\")"
   ]
  },
  {
   "cell_type": "code",
   "execution_count": 59,
   "id": "01d68ce8-576b-4769-8341-8405dbd36a44",
   "metadata": {},
   "outputs": [
    {
     "name": "stdout",
     "output_type": "stream",
     "text": [
      "{'ID': 96, 'gender': 96, 'condition': 96, 'P1 name': 96, 'P1 IL': 96, 'P1 CL': 96, 'P2 name': 96, 'P2 IL': 96, 'P2 CL': 96, 'P3 name': 96, 'P3 IL': 96, 'P3 CL': 96, 'P4 name': 192, 'P4 IL': 192, 'P4 CL': 192, 'P5 name': 0, 'P5 IL': 0, 'P5 CL': 0, 'P6 name': 96, 'P6 IL': 96, 'P6 CL': 96}\n"
     ]
    }
   ],
   "source": [
    "count_dict = {key: len(value) for key, value in dct.items()}\n",
    "\n",
    "print(count_dict)\n"
   ]
  },
  {
   "cell_type": "code",
   "execution_count": null,
   "id": "8b2a0142-9496-4980-8541-bf2c7d04fc31",
   "metadata": {},
   "outputs": [],
   "source": []
  }
 ],
 "metadata": {
  "kernelspec": {
   "display_name": "Python [conda env:base] *",
   "language": "python",
   "name": "conda-base-py"
  },
  "language_info": {
   "codemirror_mode": {
    "name": "ipython",
    "version": 3
   },
   "file_extension": ".py",
   "mimetype": "text/x-python",
   "name": "python",
   "nbconvert_exporter": "python",
   "pygments_lexer": "ipython3",
   "version": "3.12.7"
  }
 },
 "nbformat": 4,
 "nbformat_minor": 5
}
