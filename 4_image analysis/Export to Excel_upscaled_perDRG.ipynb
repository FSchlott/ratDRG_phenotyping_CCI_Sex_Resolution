{
 "cells": [
  {
   "cell_type": "code",
   "execution_count": 1,
   "id": "cdf67d69-932e-4591-a88d-7917f8ae3a77",
   "metadata": {},
   "outputs": [],
   "source": [
    "import pandas as pd\n",
    "import json\n",
    "import os\n",
    "import re"
   ]
  },
  {
   "cell_type": "markdown",
   "id": "5c403195-f356-45e8-85b5-a0e66414508f",
   "metadata": {},
   "source": [
    "### adjust your analysis file and paths"
   ]
  },
  {
   "cell_type": "code",
   "execution_count": 3,
   "id": "81c9d898",
   "metadata": {},
   "outputs": [],
   "source": [
    "#myfilepath = \"enter/path/here\"\n",
    "myfilepath = r\"F2_males atf3 in mph and SGC/\"\n",
    "import sys\n",
    "sys.path.append(myfilepath)  \n",
    "import analysis_perDRG #adjust file here"
   ]
  },
  {
   "cell_type": "code",
   "execution_count": 5,
   "id": "48072997",
   "metadata": {},
   "outputs": [
    {
     "data": {
      "text/plain": [
       "'\\nwith open (myfilepath + \"F6_W1_F.json\") as f:\\n    results_w1_f = json.load (f)   \\n \\nwith open (myfilepath + \"F6_W5_F.json\") as f:\\n    results_w5_f = json.load (f)\\n'"
      ]
     },
     "execution_count": 5,
     "metadata": {},
     "output_type": "execute_result"
    }
   ],
   "source": [
    "#open all json result files\n",
    "#adjust files accordingly \n",
    "with open (myfilepath + \"F2_W1_M.json\") as f:\n",
    "    results_w1_m = json.load (f) \n",
    "    \n",
    "with open (myfilepath + \"F2_W5_M.json\") as f:\n",
    "    results_w5_m = json.load (f)\n",
    "    \n",
    "\"\"\"\n",
    "with open (myfilepath + \"F6_W1_F.json\") as f:\n",
    "    results_w1_f = json.load (f)   \n",
    " \n",
    "with open (myfilepath + \"F6_W5_F.json\") as f:\n",
    "    results_w5_f = json.load (f)\n",
    "\"\"\""
   ]
  },
  {
   "cell_type": "markdown",
   "id": "fdbbd4a2-640f-4baa-9f8a-16d110bf30c4",
   "metadata": {},
   "source": [
    "## prepare data, IDs and functions"
   ]
  },
  {
   "cell_type": "code",
   "execution_count": 11,
   "id": "f3cdbf5d-8165-4fad-a463-7b1e082eabb1",
   "metadata": {},
   "outputs": [
    {
     "name": "stderr",
     "output_type": "stream",
     "text": [
      "C:\\Users\\fesi9\\anaconda3\\Lib\\site-packages\\numpy\\core\\fromnumeric.py:3504: RuntimeWarning: Mean of empty slice.\n",
      "  return _methods._mean(a, axis=axis, dtype=dtype,\n",
      "C:\\Users\\fesi9\\anaconda3\\Lib\\site-packages\\numpy\\core\\_methods.py:129: RuntimeWarning: invalid value encountered in scalar divide\n",
      "  ret = ret.dtype.type(ret / rcount)\n"
     ]
    },
    {
     "data": {
      "text/plain": [
       "'\\nw1_f_il = analysis_perDRG.GroupData (results_w1_f, \"IL\" )\\nw1_f_cl = analysis_perDRG.GroupData (results_w1_f, \"CL\" )\\nw5_f_il = analysis_perDRG.GroupData (results_w5_f, \"IL\" )\\nw5_f_cl = analysis_perDRG.GroupData (results_w5_f, \"CL\" )\\n'"
      ]
     },
     "execution_count": 11,
     "metadata": {},
     "output_type": "execute_result"
    }
   ],
   "source": [
    "#set data in groups\n",
    "w1_m_il = analysis_perDRG.GroupData (results_w1_m, \"IL\", 7)\n",
    "w1_m_cl = analysis_perDRG.GroupData (results_w1_m, \"CL\", 7)\n",
    "w5_m_il = analysis_perDRG.GroupData (results_w5_m, \"IL\", 5)\n",
    "w5_m_cl = analysis_perDRG.GroupData (results_w5_m, \"CL\", 5)\n",
    "\"\"\"\n",
    "w1_f_il = analysis_perDRG.GroupData (results_w1_f, \"IL\" )\n",
    "w1_f_cl = analysis_perDRG.GroupData (results_w1_f, \"CL\" )\n",
    "w5_f_il = analysis_perDRG.GroupData (results_w5_f, \"IL\" )\n",
    "w5_f_cl = analysis_perDRG.GroupData (results_w5_f, \"CL\" )\n",
    "\"\"\""
   ]
  },
  {
   "cell_type": "code",
   "execution_count": 13,
   "id": "4a2c0d72-86a4-415e-9e37-11390de3dcb4",
   "metadata": {},
   "outputs": [
    {
     "data": {
      "text/plain": [
       "'\\npaths_1wf = w1_f_il.paths\\npaths_5wf = w5_f_il.paths'"
      ]
     },
     "execution_count": 13,
     "metadata": {},
     "output_type": "execute_result"
    }
   ],
   "source": [
    "paths_1wm = w1_m_il.paths\n",
    "paths_5wm = w5_m_il.paths\n",
    "\"\"\"\n",
    "paths_1wf = w1_f_il.paths\n",
    "paths_5wf = w5_f_il.paths\"\"\""
   ]
  },
  {
   "cell_type": "code",
   "execution_count": 15,
   "id": "045be1eb-6772-49d5-a356-fc5cc728abcb",
   "metadata": {},
   "outputs": [],
   "source": [
    "def find_IDs (path): \n",
    "    parts = path.split(os.sep)\n",
    "    rat = next((p for p in parts if re.match(r\"^R\\w+\", p)), None)\n",
    "    drg = next((p for p in parts if re.match(r\"^L\\d+\", p)), None)\n",
    "    if rat and drg:\n",
    "        return f\"{rat}_{drg}\"\n",
    "    return None"
   ]
  },
  {
   "cell_type": "code",
   "execution_count": 17,
   "id": "00cb89d6",
   "metadata": {},
   "outputs": [
    {
     "data": {
      "text/plain": [
       "'\\nIDs_1wm = [find_IDs(p) for p in paths_1wm if find_IDs(p) is not None]\\nIDs_5wm = [find_IDs(p) for p in paths_5wm if find_IDs(p) is not None]\\n\\nIDs_1wf = [find_IDs(p) for p in paths_1wf if find_IDs(p) is not None]\\nIDs_5wf = [find_IDs(p) for p in paths_5wf if find_IDs(p) is not None]'"
      ]
     },
     "execution_count": 17,
     "metadata": {},
     "output_type": "execute_result"
    }
   ],
   "source": [
    "#for excel export: set rat IDs as they are in the json files\n",
    "IDs_1wm = [\"RC2_L4\", \"RC3_L4\", \"RC4_L4\", \"RC5_L4\", \"RC6_L4\", \"RC7_L4\", \n",
    "           \"RC2_L5\", \"RC3_L5\", \"RC4_L5\", \"RC5_L5\", \"RC6_L5\", \"RC7_L5\"]\n",
    "IDs_5wm = [\"RC20_L4\", \"RC21_L4\", \"RC22_L4\", \"RC23_L4\", \"RC24_L4\", \n",
    "           \"RC20_L5\", \"RC21_L5\", \"RC22_L5\", \"RC23_L5\", \"RC24_L5\"]\n",
    "\"\"\"\n",
    "IDs_1wm = [find_IDs(p) for p in paths_1wm if find_IDs(p) is not None]\n",
    "IDs_5wm = [find_IDs(p) for p in paths_5wm if find_IDs(p) is not None]\n",
    "\n",
    "IDs_1wf = [find_IDs(p) for p in paths_1wf if find_IDs(p) is not None]\n",
    "IDs_5wf = [find_IDs(p) for p in paths_5wf if find_IDs(p) is not None]\"\"\""
   ]
  },
  {
   "cell_type": "code",
   "execution_count": 19,
   "id": "33b4f24e-f420-4202-9643-470ce95ad94a",
   "metadata": {},
   "outputs": [
    {
     "name": "stdout",
     "output_type": "stream",
     "text": [
      "['RC2_L4', 'RC3_L4', 'RC4_L4', 'RC5_L4', 'RC6_L4', 'RC7_L4', 'RC2_L5', 'RC3_L5', 'RC4_L5', 'RC5_L5', 'RC6_L5', 'RC7_L5']\n",
      "['RC20_L4', 'RC21_L4', 'RC22_L4', 'RC23_L4', 'RC24_L4', 'RC20_L5', 'RC21_L5', 'RC22_L5', 'RC23_L5', 'RC24_L5']\n"
     ]
    }
   ],
   "source": [
    "print (IDs_1wm)\n",
    "print (IDs_5wm)\n",
    "#print (IDs_1wf)\n",
    "#print (IDs_5wf)"
   ]
  },
  {
   "cell_type": "code",
   "execution_count": 21,
   "id": "9ffa3556",
   "metadata": {},
   "outputs": [],
   "source": [
    "def append_dct (IDs_L, gender, condition, \n",
    "                group_il, group_cl, params):\n",
    "    #adds the ID and stable parameters for each rat\n",
    "    for i in IDs_L: \n",
    "        dct[\"ID\"].append (i)\n",
    "        dct[\"gender\"].append (gender)\n",
    "        dct[\"condition\"].append (condition)\n",
    "\n",
    "    #extracts values for il and cl and their diff from set groups\n",
    "    for pn, pname_full, label in params:\n",
    "        dct[f\"{pn} name\"].extend([label] * len(IDs_L))\n",
    "\n",
    "        il_vals = getattr(group_il, pname_full)\n",
    "        cl_vals = getattr(group_cl, pname_full)\n",
    "\n",
    "        dct[f\"{pn} IL\"].extend(il_vals)\n",
    "        dct[f\"{pn} CL\"].extend(cl_vals)\n",
    "    "
   ]
  },
  {
   "cell_type": "markdown",
   "id": "9c2b0853-a0e1-483c-b5db-ece5cef45350",
   "metadata": {},
   "source": [
    "## define parameters and get files "
   ]
  },
  {
   "cell_type": "code",
   "execution_count": null,
   "id": "b7bd9010",
   "metadata": {},
   "outputs": [],
   "source": [
    "#adjust your export parameters\n",
    "saveto = \"Excel files/FigS7 -- F2 only males -- \"\n",
    "name = \"Neurons touched by and Iba1 GS proximity\"\n",
    "\n",
    "\n",
    "params = [ (\"P1\", \"iba1_neuronratio_borders_n_allrats\", \"Neurons touched by Iba1 (%)\")\n",
    "         ,(\"P2\", \"iba1_neuronratio_borders_atf3_allrats\", \"Neurons touched by Iba1 ATF3+- (%)\")\n",
    "         ,(\"P3\", \"iba1_neuronratio_borders_atf3_neg_allrats\", \"Neurons touched by Iba1 ATF3+- (%)\")\n",
    "         ,(\"P4\", \"gs_neuronratio_borders_n_allrats\", \"Neurons touched by GS (%)\")\n",
    "          \n",
    "         ,(\"P5\", \"gs_neuronratio_borders_atf3_allrats\", \"Neurons touched by GS  ATF3+- (%)\")\n",
    "         ,(\"P6\", \"gs_neuronratio_borders_atf3_neg_allrats\", \"Neurons touched by GS  ATF3+- (%)\")\n",
    "         ,(\"P7\", \"gs_iba1_proximity_allrats\", \"Iba1 per GS - Proximity\")\n",
    "\n",
    "         ]\n",
    "\n",
    "#create empty dictionary\n",
    "dct = {\"ID\" : [], \"gender\" : [], \"condition\": [] \n",
    "       ,\"P1 name\": [], \"P1 IL\": [], \"P1 CL\" : []\n",
    "       ,\"P2 name\": [], \"P2 IL\": [], \"P2 CL\" : []\n",
    "       ,\"P3 name\": [], \"P3 IL\": [], \"P3 CL\" : []\n",
    "       ,\"P4 name\": [], \"P4 IL\": [], \"P4 CL\" : []\n",
    "       ,\"P5 name\": [], \"P5 IL\": [], \"P5 CL\" : []\n",
    "       ,\"P6 name\": [], \"P6 IL\": [], \"P6 CL\" : []\n",
    "       ,\"P7 name\": [], \"P7 IL\": [], \"P7 CL\" : []\n",
    "      }\n",
    "\n",
    "#ID_L, gender, condition, group_il, group_cl, p1_name, p1\n",
    "append_dct (IDs_1wm, \"M\", \"1W\", w1_m_il, w1_m_cl, params)\n",
    "#append_dct (IDs_1wf, \"F\", \"1W\", w1_f_il, w1_f_cl, params)\n",
    "append_dct (IDs_5wm, \"M\", \"5W\", w5_m_il, w5_m_cl, params)\n",
    "#append_dct (IDs_5wf, \"F\", \"5W\", w5_f_il, w5_f_cl, params)\n",
    "df = pd.DataFrame (dct)\n",
    "\n",
    "df.to_excel (saveto + name +\".xlsx\")"
   ]
  },
  {
   "cell_type": "code",
   "execution_count": null,
   "id": "7d95c9ff-29ef-49f8-8c40-e9c5f54272ef",
   "metadata": {},
   "outputs": [],
   "source": []
  },
  {
   "cell_type": "code",
   "execution_count": null,
   "id": "8b2a0142-9496-4980-8541-bf2c7d04fc31",
   "metadata": {},
   "outputs": [],
   "source": []
  }
 ],
 "metadata": {
  "kernelspec": {
   "display_name": "Python [conda env:base] *",
   "language": "python",
   "name": "conda-base-py"
  },
  "language_info": {
   "codemirror_mode": {
    "name": "ipython",
    "version": 3
   },
   "file_extension": ".py",
   "mimetype": "text/x-python",
   "name": "python",
   "nbconvert_exporter": "python",
   "pygments_lexer": "ipython3",
   "version": "3.12.7"
  }
 },
 "nbformat": 4,
 "nbformat_minor": 5
}
