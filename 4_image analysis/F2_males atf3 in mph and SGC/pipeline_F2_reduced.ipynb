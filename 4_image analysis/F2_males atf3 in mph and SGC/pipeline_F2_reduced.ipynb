{
 "cells": [
  {
   "cell_type": "code",
   "execution_count": null,
   "id": "dc04c011",
   "metadata": {},
   "outputs": [],
   "source": [
    "import os\n",
    "import getinfo_F2_reduced\n",
    "from tqdm.auto import tqdm\n",
    "import json"
   ]
  },
  {
   "cell_type": "code",
   "execution_count": null,
   "id": "ce76a7f3",
   "metadata": {},
   "outputs": [],
   "source": [
    "#puts paths for each group in a dictionary\n",
    "def get_paths (rootdir):\n",
    "    subdirs_L4CL = []\n",
    "    subdirs_L5CL = []\n",
    "    subdirs_L4IL = []\n",
    "    subdirs_L5IL = []\n",
    "    for subdir, dirs, files in os.walk(rootdir):\n",
    "        if subdir.endswith (\"CL\\L4\"): \n",
    "            subdirs_L4CL.append(subdir)\n",
    "            print (subdir)\n",
    "        elif subdir.endswith('IL\\L4'):\n",
    "            subdirs_L4IL.append(subdir)\n",
    "            print (subdir)\n",
    "        elif subdir.endswith('CL\\L5'):\n",
    "            subdirs_L5CL.append(subdir)\n",
    "            print (subdir)\n",
    "        elif subdir.endswith('IL\\L5'):\n",
    "            subdirs_L5IL.append(subdir)\n",
    "            print (subdir)\n",
    "    return {'L4CL':subdirs_L4CL, 'L4IL':subdirs_L4IL, 'L5CL':subdirs_L5CL, 'L5IL':subdirs_L5IL}"
   ]
  },
  {
   "cell_type": "code",
   "execution_count": null,
   "id": "14edbd2c",
   "metadata": {},
   "outputs": [],
   "source": [
    "w5_cci = get_paths(r\"D:\\Immunfluoreszenz\\CCI5W\\Tifs\\2-GS_ATF3_Iba1\" )\n",
    "\n",
    "d7_cci = get_paths(r\"D:\\Immunfluoreszenz\\CCI1W rDRGs\\Tifs\\2-GS_ATF3_Iba1\")"
   ]
  },
  {
   "cell_type": "code",
   "execution_count": null,
   "id": "f69510ff",
   "metadata": {},
   "outputs": [],
   "source": [
    "#group is the experimental group, e.g. w1_f\n",
    "#name is a string for the name of the group\n",
    "def images_to_numbers(group, name):\n",
    "    results = []\n",
    "    for drg_group in tqdm(group):    \n",
    "        for subdir in tqdm(group[drg_group]):\n",
    "            #try:\n",
    "                data = getinfo_F2_reduced.ImageData(subdir)\n",
    "                results.append({\n",
    "                    \"group\":drg_group,\n",
    "                    \"path\":subdir,\n",
    "                    \"iba1_borders_n\": data.iba1_borders_n_L,\n",
    "                    \"iba1_borders_atf3\": data.iba1_borders_atf3_L,\n",
    "                    \"iba1_borders_atf3_neg\": data.iba1_borders_atf3_neg_L,\n",
    "                    \"gs_borders_n\": data.gs_borders_n_L,\n",
    "                    \"gs_borders_atf3\": data.gs_borders_atf3_L,\n",
    "                    \"gs_borders_atf3_neg\": data.gs_borders_atf3_neg_L,\n",
    "\n",
    "                    \"n_anz\":data.n_anz_L,\n",
    "                    \"atf3_anz\":data.atf3_anz_L,\n",
    "                    \"atf3_neg_anz\":data.atf3_neg_anz_L,\n",
    "                    \"n_sizes\":data.n_sizes_L,\n",
    "                    \"atf3_sizes\":data.atf3_sizes_L,\n",
    "                    \"atf3_neg_sizes\":data.atf3_neg_sizes_L,\n",
    "                    \n",
    "                    \"gs_iba1_proximity\": data.gs_iba1_proximity_L\n",
    "                })\n",
    "            \n",
    "    with open(name+\".json\", \"w\") as file:\n",
    "        file.write(json.dumps(results, indent=4))\n",
    "    "
   ]
  },
  {
   "cell_type": "code",
   "execution_count": null,
   "id": "b2ebca10",
   "metadata": {},
   "outputs": [],
   "source": [
    "images_to_numbers (w5_cci , \"F2_CCI_W5\")"
   ]
  },
  {
   "cell_type": "code",
   "execution_count": null,
   "id": "5b29c025",
   "metadata": {},
   "outputs": [],
   "source": [
    "images_to_numbers (d7_cci , \"F2_CCI_W1\")"
   ]
  }
 ],
 "metadata": {
  "kernelspec": {
   "display_name": "Python 3",
   "language": "python",
   "name": "python3"
  },
  "language_info": {
   "codemirror_mode": {
    "name": "ipython",
    "version": 3
   },
   "file_extension": ".py",
   "mimetype": "text/x-python",
   "name": "python",
   "nbconvert_exporter": "python",
   "pygments_lexer": "ipython3",
   "version": "3.8.8"
  }
 },
 "nbformat": 4,
 "nbformat_minor": 5
}
