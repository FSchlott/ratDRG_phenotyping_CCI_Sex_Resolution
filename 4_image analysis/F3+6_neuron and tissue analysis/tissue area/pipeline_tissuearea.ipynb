{
 "cells": [
  {
   "cell_type": "code",
   "execution_count": null,
   "id": "dc04c011",
   "metadata": {},
   "outputs": [],
   "source": [
    "import os\n",
    "import getinfo_tissuearea\n",
    "from tqdm.auto import tqdm\n",
    "import json"
   ]
  },
  {
   "cell_type": "code",
   "execution_count": null,
   "id": "ce76a7f3",
   "metadata": {},
   "outputs": [],
   "source": [
    "#puts paths for each group in a dictionary\n",
    "def get_paths (rootdir):\n",
    "    \n",
    "    subdirs_L4CL = []\n",
    "    subdirs_L5CL = []\n",
    "    subdirs_L4IL = []\n",
    "    subdirs_L5IL = []\n",
    "    for subdir, dirs, files in os.walk(rootdir):\n",
    "        if subdir.endswith (\"CL\\L4\"): \n",
    "            subdirs_L4CL.append(subdir)\n",
    "            #print (subdir)\n",
    "        elif subdir.endswith('IL\\L4'):\n",
    "            subdirs_L4IL.append(subdir)\n",
    "            #print (subdir)\n",
    "        elif subdir.endswith('CL\\L5'):\n",
    "            subdirs_L5CL.append(subdir)\n",
    "            #print (subdir)\n",
    "        elif subdir.endswith('IL\\L5'):\n",
    "            subdirs_L5IL.append(subdir)\n",
    "            #print (subdir)\n",
    "    return {'L4CL':subdirs_L4CL, 'L4IL':subdirs_L4IL, 'L5CL':subdirs_L5CL, 'L5IL':subdirs_L5IL}"
   ]
  },
  {
   "cell_type": "code",
   "execution_count": 12,
   "id": "14edbd2c",
   "metadata": {},
   "outputs": [],
   "source": [
    "w1_f = get_paths(r\"E:\\IF\\CCI - Apotom\\Females\\Tifs_adj\\F6_Ib4-Peripherin-NF\\1W\")\n",
    "w5_f = get_paths(r\"E:\\IF\\CCI - Apotom\\Females\\Tifs_adj\\F6_Ib4-Peripherin-NF\\5W\")\n",
    "w1_m = get_paths(r\"E:\\IF\\CCI - Apotom\\Males\\1W\\Tifs_Auswahl beste Predictions\\3-IB4_ATF3_NF\")\n",
    "w5_m = get_paths(r\"E:\\IF\\CCI - Apotom\\Males\\5W\\Tifs_Auswahl beste Predictions\\3-IB4_ATF3_NF\")"
   ]
  },
  {
   "cell_type": "code",
   "execution_count": null,
   "id": "f69510ff",
   "metadata": {},
   "outputs": [],
   "source": [
    "#group is the experimental group, e.g. w1_f\n",
    "#name is a string for the name of the group\n",
    "def images_to_numbers(group, name, analysisfile):\n",
    "    results = []\n",
    "    for drg_group in tqdm(group):\n",
    "        #print (group)\n",
    "        for subdir in tqdm(group[drg_group]):\n",
    "            print (subdir)\n",
    "            data = analysisfile.ImageData(subdir)\n",
    "            results.append({\n",
    "                \"group\":drg_group,\n",
    "                \"path\":subdir, \n",
    "                \"nf_anz\": data.nf_anz_L, \n",
    "                \"ib4_anz\": data.ib4_anz_L, \n",
    "                \"tissue_area_px\": data.tissue_area_L,\n",
    "                \"neuron_area_px\": data.neuron_area_L,\n",
    "                \"ib4_area_px\": data.ib4_area_L\n",
    "                            })\n",
    "    with open(name+\".json\", \"w\") as file:\n",
    "        file.write(json.dumps(results, indent=4))"
   ]
  },
  {
   "cell_type": "code",
   "execution_count": 14,
   "id": "b2ebca10",
   "metadata": {},
   "outputs": [
    {
     "data": {
      "application/vnd.jupyter.widget-view+json": {
       "model_id": "a7fbe2270d8c40698afd6fbe42c7a0d8",
       "version_major": 2,
       "version_minor": 0
      },
      "text/plain": [
       "  0%|          | 0/4 [00:00<?, ?it/s]"
      ]
     },
     "metadata": {},
     "output_type": "display_data"
    },
    {
     "data": {
      "application/vnd.jupyter.widget-view+json": {
       "model_id": "debf54ba399c4d21a96832686ef5cfa4",
       "version_major": 2,
       "version_minor": 0
      },
      "text/plain": [
       "  0%|          | 0/7 [00:00<?, ?it/s]"
      ]
     },
     "metadata": {},
     "output_type": "display_data"
    },
    {
     "name": "stdout",
     "output_type": "stream",
     "text": [
      "E:\\IF\\CCI - Apotom\\Females\\Tifs_adj\\F6_Ib4-Peripherin-NF\\1W\\RC52\\CL\\L4\n"
     ]
    },
    {
     "data": {
      "application/vnd.jupyter.widget-view+json": {
       "model_id": "0f3509f67a19486c96dfc99f2c4d1b47",
       "version_major": 2,
       "version_minor": 0
      },
      "text/plain": [
       "0it [00:00, ?it/s]"
      ]
     },
     "metadata": {},
     "output_type": "display_data"
    },
    {
     "name": "stdout",
     "output_type": "stream",
     "text": [
      "E:\\IF\\CCI - Apotom\\Females\\Tifs_adj\\F6_Ib4-Peripherin-NF\\1W\\RC53\\CL\\L4\n"
     ]
    },
    {
     "data": {
      "application/vnd.jupyter.widget-view+json": {
       "model_id": "68cc50ff55ef442aba3f50ad52e2166c",
       "version_major": 2,
       "version_minor": 0
      },
      "text/plain": [
       "0it [00:00, ?it/s]"
      ]
     },
     "metadata": {},
     "output_type": "display_data"
    },
    {
     "name": "stdout",
     "output_type": "stream",
     "text": [
      "E:\\IF\\CCI - Apotom\\Females\\Tifs_adj\\F6_Ib4-Peripherin-NF\\1W\\RC54\\CL\\L4\n"
     ]
    },
    {
     "data": {
      "application/vnd.jupyter.widget-view+json": {
       "model_id": "ba3ca96a3b864fbfa91dcd61d1bfa0ec",
       "version_major": 2,
       "version_minor": 0
      },
      "text/plain": [
       "0it [00:00, ?it/s]"
      ]
     },
     "metadata": {},
     "output_type": "display_data"
    },
    {
     "name": "stdout",
     "output_type": "stream",
     "text": [
      "E:\\IF\\CCI - Apotom\\Females\\Tifs_adj\\F6_Ib4-Peripherin-NF\\1W\\RC55\\CL\\L4\n"
     ]
    },
    {
     "data": {
      "application/vnd.jupyter.widget-view+json": {
       "model_id": "5283b864afae45479ebea8bae9689ddc",
       "version_major": 2,
       "version_minor": 0
      },
      "text/plain": [
       "0it [00:00, ?it/s]"
      ]
     },
     "metadata": {},
     "output_type": "display_data"
    },
    {
     "name": "stdout",
     "output_type": "stream",
     "text": [
      "E:\\IF\\CCI - Apotom\\Females\\Tifs_adj\\F6_Ib4-Peripherin-NF\\1W\\RC56\\CL\\L4\n"
     ]
    },
    {
     "data": {
      "application/vnd.jupyter.widget-view+json": {
       "model_id": "371aa7b8db6a48aea9dde282cfe34a91",
       "version_major": 2,
       "version_minor": 0
      },
      "text/plain": [
       "0it [00:00, ?it/s]"
      ]
     },
     "metadata": {},
     "output_type": "display_data"
    },
    {
     "name": "stdout",
     "output_type": "stream",
     "text": [
      "E:\\IF\\CCI - Apotom\\Females\\Tifs_adj\\F6_Ib4-Peripherin-NF\\1W\\RC57\\CL\\L4\n"
     ]
    },
    {
     "data": {
      "application/vnd.jupyter.widget-view+json": {
       "model_id": "5a4f501a0a4c4ff4a1f1780c3dca8fc0",
       "version_major": 2,
       "version_minor": 0
      },
      "text/plain": [
       "0it [00:00, ?it/s]"
      ]
     },
     "metadata": {},
     "output_type": "display_data"
    },
    {
     "name": "stdout",
     "output_type": "stream",
     "text": [
      "E:\\IF\\CCI - Apotom\\Females\\Tifs_adj\\F6_Ib4-Peripherin-NF\\1W\\RC58\\CL\\L4\n"
     ]
    },
    {
     "data": {
      "application/vnd.jupyter.widget-view+json": {
       "model_id": "b3b9c6c9526444e4ad581eab5e291e8b",
       "version_major": 2,
       "version_minor": 0
      },
      "text/plain": [
       "0it [00:00, ?it/s]"
      ]
     },
     "metadata": {},
     "output_type": "display_data"
    },
    {
     "data": {
      "application/vnd.jupyter.widget-view+json": {
       "model_id": "c8b9da11fa65462ba8199fd1c1d18c5d",
       "version_major": 2,
       "version_minor": 0
      },
      "text/plain": [
       "  0%|          | 0/7 [00:00<?, ?it/s]"
      ]
     },
     "metadata": {},
     "output_type": "display_data"
    },
    {
     "name": "stdout",
     "output_type": "stream",
     "text": [
      "E:\\IF\\CCI - Apotom\\Females\\Tifs_adj\\F6_Ib4-Peripherin-NF\\1W\\RC52\\IL\\L4\n"
     ]
    },
    {
     "data": {
      "application/vnd.jupyter.widget-view+json": {
       "model_id": "050a03964fea408aaf4a4fe556d3e4c0",
       "version_major": 2,
       "version_minor": 0
      },
      "text/plain": [
       "0it [00:00, ?it/s]"
      ]
     },
     "metadata": {},
     "output_type": "display_data"
    },
    {
     "name": "stdout",
     "output_type": "stream",
     "text": [
      "E:\\IF\\CCI - Apotom\\Females\\Tifs_adj\\F6_Ib4-Peripherin-NF\\1W\\RC53\\IL\\L4\n"
     ]
    },
    {
     "data": {
      "application/vnd.jupyter.widget-view+json": {
       "model_id": "f03d3c2c3b6f415a90cac351b4e9ff31",
       "version_major": 2,
       "version_minor": 0
      },
      "text/plain": [
       "0it [00:00, ?it/s]"
      ]
     },
     "metadata": {},
     "output_type": "display_data"
    },
    {
     "name": "stdout",
     "output_type": "stream",
     "text": [
      "E:\\IF\\CCI - Apotom\\Females\\Tifs_adj\\F6_Ib4-Peripherin-NF\\1W\\RC54\\IL\\L4\n"
     ]
    },
    {
     "data": {
      "application/vnd.jupyter.widget-view+json": {
       "model_id": "c48c64a726a645fa966c7c1344705650",
       "version_major": 2,
       "version_minor": 0
      },
      "text/plain": [
       "0it [00:00, ?it/s]"
      ]
     },
     "metadata": {},
     "output_type": "display_data"
    },
    {
     "name": "stdout",
     "output_type": "stream",
     "text": [
      "E:\\IF\\CCI - Apotom\\Females\\Tifs_adj\\F6_Ib4-Peripherin-NF\\1W\\RC55\\IL\\L4\n"
     ]
    },
    {
     "data": {
      "application/vnd.jupyter.widget-view+json": {
       "model_id": "0aace9c645204749882249128f9f481b",
       "version_major": 2,
       "version_minor": 0
      },
      "text/plain": [
       "0it [00:00, ?it/s]"
      ]
     },
     "metadata": {},
     "output_type": "display_data"
    },
    {
     "name": "stdout",
     "output_type": "stream",
     "text": [
      "E:\\IF\\CCI - Apotom\\Females\\Tifs_adj\\F6_Ib4-Peripherin-NF\\1W\\RC56\\IL\\L4\n"
     ]
    },
    {
     "data": {
      "application/vnd.jupyter.widget-view+json": {
       "model_id": "0fc572e689fc41b08abab891589713ec",
       "version_major": 2,
       "version_minor": 0
      },
      "text/plain": [
       "0it [00:00, ?it/s]"
      ]
     },
     "metadata": {},
     "output_type": "display_data"
    },
    {
     "name": "stdout",
     "output_type": "stream",
     "text": [
      "E:\\IF\\CCI - Apotom\\Females\\Tifs_adj\\F6_Ib4-Peripherin-NF\\1W\\RC57\\IL\\L4\n"
     ]
    },
    {
     "data": {
      "application/vnd.jupyter.widget-view+json": {
       "model_id": "90002b2b4da74958aeaa19c119d875d9",
       "version_major": 2,
       "version_minor": 0
      },
      "text/plain": [
       "0it [00:00, ?it/s]"
      ]
     },
     "metadata": {},
     "output_type": "display_data"
    },
    {
     "name": "stdout",
     "output_type": "stream",
     "text": [
      "E:\\IF\\CCI - Apotom\\Females\\Tifs_adj\\F6_Ib4-Peripherin-NF\\1W\\RC58\\IL\\L4\n"
     ]
    },
    {
     "data": {
      "application/vnd.jupyter.widget-view+json": {
       "model_id": "ceec6d26245f4532b7dec72eb38075cd",
       "version_major": 2,
       "version_minor": 0
      },
      "text/plain": [
       "0it [00:00, ?it/s]"
      ]
     },
     "metadata": {},
     "output_type": "display_data"
    },
    {
     "data": {
      "application/vnd.jupyter.widget-view+json": {
       "model_id": "0b05bf49826a40e9bca8eceda0dd3a58",
       "version_major": 2,
       "version_minor": 0
      },
      "text/plain": [
       "  0%|          | 0/7 [00:00<?, ?it/s]"
      ]
     },
     "metadata": {},
     "output_type": "display_data"
    },
    {
     "name": "stdout",
     "output_type": "stream",
     "text": [
      "E:\\IF\\CCI - Apotom\\Females\\Tifs_adj\\F6_Ib4-Peripherin-NF\\1W\\RC52\\CL\\L5\n"
     ]
    },
    {
     "data": {
      "application/vnd.jupyter.widget-view+json": {
       "model_id": "538b29ac3efa4094b7b4a41da7695b09",
       "version_major": 2,
       "version_minor": 0
      },
      "text/plain": [
       "0it [00:00, ?it/s]"
      ]
     },
     "metadata": {},
     "output_type": "display_data"
    },
    {
     "name": "stdout",
     "output_type": "stream",
     "text": [
      "E:\\IF\\CCI - Apotom\\Females\\Tifs_adj\\F6_Ib4-Peripherin-NF\\1W\\RC53\\CL\\L5\n"
     ]
    },
    {
     "data": {
      "application/vnd.jupyter.widget-view+json": {
       "model_id": "16e5077dbf1e4b0d91b112f4ac4df4b4",
       "version_major": 2,
       "version_minor": 0
      },
      "text/plain": [
       "0it [00:00, ?it/s]"
      ]
     },
     "metadata": {},
     "output_type": "display_data"
    },
    {
     "name": "stdout",
     "output_type": "stream",
     "text": [
      "E:\\IF\\CCI - Apotom\\Females\\Tifs_adj\\F6_Ib4-Peripherin-NF\\1W\\RC54\\CL\\L5\n"
     ]
    },
    {
     "data": {
      "application/vnd.jupyter.widget-view+json": {
       "model_id": "a7524b83b4a245b381f94faf6934fad5",
       "version_major": 2,
       "version_minor": 0
      },
      "text/plain": [
       "0it [00:00, ?it/s]"
      ]
     },
     "metadata": {},
     "output_type": "display_data"
    },
    {
     "name": "stdout",
     "output_type": "stream",
     "text": [
      "E:\\IF\\CCI - Apotom\\Females\\Tifs_adj\\F6_Ib4-Peripherin-NF\\1W\\RC55\\CL\\L5\n"
     ]
    },
    {
     "data": {
      "application/vnd.jupyter.widget-view+json": {
       "model_id": "f52899c1d1b54926931562ad246aa869",
       "version_major": 2,
       "version_minor": 0
      },
      "text/plain": [
       "0it [00:00, ?it/s]"
      ]
     },
     "metadata": {},
     "output_type": "display_data"
    },
    {
     "name": "stdout",
     "output_type": "stream",
     "text": [
      "E:\\IF\\CCI - Apotom\\Females\\Tifs_adj\\F6_Ib4-Peripherin-NF\\1W\\RC56\\CL\\L5\n"
     ]
    },
    {
     "data": {
      "application/vnd.jupyter.widget-view+json": {
       "model_id": "bd951376854d486c9b440dab7b627446",
       "version_major": 2,
       "version_minor": 0
      },
      "text/plain": [
       "0it [00:00, ?it/s]"
      ]
     },
     "metadata": {},
     "output_type": "display_data"
    },
    {
     "name": "stdout",
     "output_type": "stream",
     "text": [
      "E:\\IF\\CCI - Apotom\\Females\\Tifs_adj\\F6_Ib4-Peripherin-NF\\1W\\RC57\\CL\\L5\n"
     ]
    },
    {
     "data": {
      "application/vnd.jupyter.widget-view+json": {
       "model_id": "8e133e64d8754528b465cccaedad63f7",
       "version_major": 2,
       "version_minor": 0
      },
      "text/plain": [
       "0it [00:00, ?it/s]"
      ]
     },
     "metadata": {},
     "output_type": "display_data"
    },
    {
     "name": "stdout",
     "output_type": "stream",
     "text": [
      "E:\\IF\\CCI - Apotom\\Females\\Tifs_adj\\F6_Ib4-Peripherin-NF\\1W\\RC58\\CL\\L5\n"
     ]
    },
    {
     "data": {
      "application/vnd.jupyter.widget-view+json": {
       "model_id": "8b3e6d0b6b41483ea6c0b6aa2ad50629",
       "version_major": 2,
       "version_minor": 0
      },
      "text/plain": [
       "0it [00:00, ?it/s]"
      ]
     },
     "metadata": {},
     "output_type": "display_data"
    },
    {
     "data": {
      "application/vnd.jupyter.widget-view+json": {
       "model_id": "5fde944e1d3249dcad558a5093aa2008",
       "version_major": 2,
       "version_minor": 0
      },
      "text/plain": [
       "  0%|          | 0/7 [00:00<?, ?it/s]"
      ]
     },
     "metadata": {},
     "output_type": "display_data"
    },
    {
     "name": "stdout",
     "output_type": "stream",
     "text": [
      "E:\\IF\\CCI - Apotom\\Females\\Tifs_adj\\F6_Ib4-Peripherin-NF\\1W\\RC52\\IL\\L5\n"
     ]
    },
    {
     "data": {
      "application/vnd.jupyter.widget-view+json": {
       "model_id": "8838a2ca52ad493fb12eff80709cae28",
       "version_major": 2,
       "version_minor": 0
      },
      "text/plain": [
       "0it [00:00, ?it/s]"
      ]
     },
     "metadata": {},
     "output_type": "display_data"
    },
    {
     "name": "stdout",
     "output_type": "stream",
     "text": [
      "E:\\IF\\CCI - Apotom\\Females\\Tifs_adj\\F6_Ib4-Peripherin-NF\\1W\\RC53\\IL\\L5\n"
     ]
    },
    {
     "data": {
      "application/vnd.jupyter.widget-view+json": {
       "model_id": "02e804f2580a48fe853d9462b3c986d3",
       "version_major": 2,
       "version_minor": 0
      },
      "text/plain": [
       "0it [00:00, ?it/s]"
      ]
     },
     "metadata": {},
     "output_type": "display_data"
    },
    {
     "name": "stdout",
     "output_type": "stream",
     "text": [
      "E:\\IF\\CCI - Apotom\\Females\\Tifs_adj\\F6_Ib4-Peripherin-NF\\1W\\RC54\\IL\\L5\n"
     ]
    },
    {
     "data": {
      "application/vnd.jupyter.widget-view+json": {
       "model_id": "59c3a30af72c468e9933bea0dca6e788",
       "version_major": 2,
       "version_minor": 0
      },
      "text/plain": [
       "0it [00:00, ?it/s]"
      ]
     },
     "metadata": {},
     "output_type": "display_data"
    },
    {
     "name": "stdout",
     "output_type": "stream",
     "text": [
      "E:\\IF\\CCI - Apotom\\Females\\Tifs_adj\\F6_Ib4-Peripherin-NF\\1W\\RC55\\IL\\L5\n"
     ]
    },
    {
     "data": {
      "application/vnd.jupyter.widget-view+json": {
       "model_id": "f98c3738efb441c588c1143daf20ceae",
       "version_major": 2,
       "version_minor": 0
      },
      "text/plain": [
       "0it [00:00, ?it/s]"
      ]
     },
     "metadata": {},
     "output_type": "display_data"
    },
    {
     "name": "stdout",
     "output_type": "stream",
     "text": [
      "E:\\IF\\CCI - Apotom\\Females\\Tifs_adj\\F6_Ib4-Peripherin-NF\\1W\\RC56\\IL\\L5\n"
     ]
    },
    {
     "data": {
      "application/vnd.jupyter.widget-view+json": {
       "model_id": "bd7c0cafbf8d4fb48f101c7b194b120d",
       "version_major": 2,
       "version_minor": 0
      },
      "text/plain": [
       "0it [00:00, ?it/s]"
      ]
     },
     "metadata": {},
     "output_type": "display_data"
    },
    {
     "name": "stdout",
     "output_type": "stream",
     "text": [
      "E:\\IF\\CCI - Apotom\\Females\\Tifs_adj\\F6_Ib4-Peripherin-NF\\1W\\RC57\\IL\\L5\n"
     ]
    },
    {
     "data": {
      "application/vnd.jupyter.widget-view+json": {
       "model_id": "8606de1249e548fd93e69616c624ee1e",
       "version_major": 2,
       "version_minor": 0
      },
      "text/plain": [
       "0it [00:00, ?it/s]"
      ]
     },
     "metadata": {},
     "output_type": "display_data"
    },
    {
     "name": "stdout",
     "output_type": "stream",
     "text": [
      "E:\\IF\\CCI - Apotom\\Females\\Tifs_adj\\F6_Ib4-Peripherin-NF\\1W\\RC58\\IL\\L5\n"
     ]
    },
    {
     "data": {
      "application/vnd.jupyter.widget-view+json": {
       "model_id": "f413045e6c78446480ae562eedfa3992",
       "version_major": 2,
       "version_minor": 0
      },
      "text/plain": [
       "0it [00:00, ?it/s]"
      ]
     },
     "metadata": {},
     "output_type": "display_data"
    }
   ],
   "source": [
    "images_to_numbers (w1_f , \"F6_f_1W_tissuearea\", getinfo_tissuearea)"
   ]
  },
  {
   "cell_type": "code",
   "execution_count": 15,
   "id": "8918f18c",
   "metadata": {
    "scrolled": false
   },
   "outputs": [
    {
     "data": {
      "application/vnd.jupyter.widget-view+json": {
       "model_id": "2be43a9031bb4d32b3cd5c7c04ae0b81",
       "version_major": 2,
       "version_minor": 0
      },
      "text/plain": [
       "  0%|          | 0/4 [00:00<?, ?it/s]"
      ]
     },
     "metadata": {},
     "output_type": "display_data"
    },
    {
     "data": {
      "application/vnd.jupyter.widget-view+json": {
       "model_id": "af3b26af56d84ade88fa6d55b19f6f17",
       "version_major": 2,
       "version_minor": 0
      },
      "text/plain": [
       "  0%|          | 0/6 [00:00<?, ?it/s]"
      ]
     },
     "metadata": {},
     "output_type": "display_data"
    },
    {
     "name": "stdout",
     "output_type": "stream",
     "text": [
      "E:\\IF\\CCI - Apotom\\Females\\Tifs_adj\\F6_Ib4-Peripherin-NF\\5W\\RC39\\CL\\L4\n"
     ]
    },
    {
     "data": {
      "application/vnd.jupyter.widget-view+json": {
       "model_id": "541dd4704c904d16aadfa41d1f8baf5c",
       "version_major": 2,
       "version_minor": 0
      },
      "text/plain": [
       "0it [00:00, ?it/s]"
      ]
     },
     "metadata": {},
     "output_type": "display_data"
    },
    {
     "name": "stdout",
     "output_type": "stream",
     "text": [
      "E:\\IF\\CCI - Apotom\\Females\\Tifs_adj\\F6_Ib4-Peripherin-NF\\5W\\RC40\\CL\\L4\n"
     ]
    },
    {
     "data": {
      "application/vnd.jupyter.widget-view+json": {
       "model_id": "6dd44447472849c5b8f5113f3032b26f",
       "version_major": 2,
       "version_minor": 0
      },
      "text/plain": [
       "0it [00:00, ?it/s]"
      ]
     },
     "metadata": {},
     "output_type": "display_data"
    },
    {
     "name": "stdout",
     "output_type": "stream",
     "text": [
      "E:\\IF\\CCI - Apotom\\Females\\Tifs_adj\\F6_Ib4-Peripherin-NF\\5W\\RC41\\CL\\L4\n"
     ]
    },
    {
     "data": {
      "application/vnd.jupyter.widget-view+json": {
       "model_id": "2e8fd1f2a63a4510bb27de9fc5a6f300",
       "version_major": 2,
       "version_minor": 0
      },
      "text/plain": [
       "0it [00:00, ?it/s]"
      ]
     },
     "metadata": {},
     "output_type": "display_data"
    },
    {
     "name": "stdout",
     "output_type": "stream",
     "text": [
      "E:\\IF\\CCI - Apotom\\Females\\Tifs_adj\\F6_Ib4-Peripherin-NF\\5W\\RC42\\CL\\L4\n"
     ]
    },
    {
     "data": {
      "application/vnd.jupyter.widget-view+json": {
       "model_id": "1d31f22096c2497cba4a1f8b89a976e1",
       "version_major": 2,
       "version_minor": 0
      },
      "text/plain": [
       "0it [00:00, ?it/s]"
      ]
     },
     "metadata": {},
     "output_type": "display_data"
    },
    {
     "name": "stdout",
     "output_type": "stream",
     "text": [
      "E:\\IF\\CCI - Apotom\\Females\\Tifs_adj\\F6_Ib4-Peripherin-NF\\5W\\RC43\\CL\\L4\n"
     ]
    },
    {
     "data": {
      "application/vnd.jupyter.widget-view+json": {
       "model_id": "4a605b7688964d58a6fa1136462344c7",
       "version_major": 2,
       "version_minor": 0
      },
      "text/plain": [
       "0it [00:00, ?it/s]"
      ]
     },
     "metadata": {},
     "output_type": "display_data"
    },
    {
     "name": "stdout",
     "output_type": "stream",
     "text": [
      "E:\\IF\\CCI - Apotom\\Females\\Tifs_adj\\F6_Ib4-Peripherin-NF\\5W\\RC44\\CL\\L4\n"
     ]
    },
    {
     "data": {
      "application/vnd.jupyter.widget-view+json": {
       "model_id": "f4ebc3166e954e098bad139d85962e15",
       "version_major": 2,
       "version_minor": 0
      },
      "text/plain": [
       "0it [00:00, ?it/s]"
      ]
     },
     "metadata": {},
     "output_type": "display_data"
    },
    {
     "data": {
      "application/vnd.jupyter.widget-view+json": {
       "model_id": "3b869b214f0e455ca176acbd1ef2aaa6",
       "version_major": 2,
       "version_minor": 0
      },
      "text/plain": [
       "  0%|          | 0/6 [00:00<?, ?it/s]"
      ]
     },
     "metadata": {},
     "output_type": "display_data"
    },
    {
     "name": "stdout",
     "output_type": "stream",
     "text": [
      "E:\\IF\\CCI - Apotom\\Females\\Tifs_adj\\F6_Ib4-Peripherin-NF\\5W\\RC39\\IL\\L4\n"
     ]
    },
    {
     "data": {
      "application/vnd.jupyter.widget-view+json": {
       "model_id": "6adb3477857b4f8295d27c4b322b66eb",
       "version_major": 2,
       "version_minor": 0
      },
      "text/plain": [
       "0it [00:00, ?it/s]"
      ]
     },
     "metadata": {},
     "output_type": "display_data"
    },
    {
     "name": "stdout",
     "output_type": "stream",
     "text": [
      "E:\\IF\\CCI - Apotom\\Females\\Tifs_adj\\F6_Ib4-Peripherin-NF\\5W\\RC40\\IL\\L4\n"
     ]
    },
    {
     "data": {
      "application/vnd.jupyter.widget-view+json": {
       "model_id": "4048fa61fec34ac38fb7c731c28afa86",
       "version_major": 2,
       "version_minor": 0
      },
      "text/plain": [
       "0it [00:00, ?it/s]"
      ]
     },
     "metadata": {},
     "output_type": "display_data"
    },
    {
     "name": "stdout",
     "output_type": "stream",
     "text": [
      "E:\\IF\\CCI - Apotom\\Females\\Tifs_adj\\F6_Ib4-Peripherin-NF\\5W\\RC41\\IL\\L4\n"
     ]
    },
    {
     "data": {
      "application/vnd.jupyter.widget-view+json": {
       "model_id": "eb23937dd7fd4a6ea3803d683a222958",
       "version_major": 2,
       "version_minor": 0
      },
      "text/plain": [
       "0it [00:00, ?it/s]"
      ]
     },
     "metadata": {},
     "output_type": "display_data"
    },
    {
     "name": "stdout",
     "output_type": "stream",
     "text": [
      "E:\\IF\\CCI - Apotom\\Females\\Tifs_adj\\F6_Ib4-Peripherin-NF\\5W\\RC42\\IL\\L4\n"
     ]
    },
    {
     "data": {
      "application/vnd.jupyter.widget-view+json": {
       "model_id": "eed213f325644452a0f864733138f5e9",
       "version_major": 2,
       "version_minor": 0
      },
      "text/plain": [
       "0it [00:00, ?it/s]"
      ]
     },
     "metadata": {},
     "output_type": "display_data"
    },
    {
     "name": "stdout",
     "output_type": "stream",
     "text": [
      "E:\\IF\\CCI - Apotom\\Females\\Tifs_adj\\F6_Ib4-Peripherin-NF\\5W\\RC43\\IL\\L4\n"
     ]
    },
    {
     "data": {
      "application/vnd.jupyter.widget-view+json": {
       "model_id": "7ba5b179ca8f4f4db42d2d5655478425",
       "version_major": 2,
       "version_minor": 0
      },
      "text/plain": [
       "0it [00:00, ?it/s]"
      ]
     },
     "metadata": {},
     "output_type": "display_data"
    },
    {
     "name": "stdout",
     "output_type": "stream",
     "text": [
      "E:\\IF\\CCI - Apotom\\Females\\Tifs_adj\\F6_Ib4-Peripherin-NF\\5W\\RC44\\IL\\L4\n"
     ]
    },
    {
     "data": {
      "application/vnd.jupyter.widget-view+json": {
       "model_id": "c9b9709eec404e71b185c21efdfb1ab9",
       "version_major": 2,
       "version_minor": 0
      },
      "text/plain": [
       "0it [00:00, ?it/s]"
      ]
     },
     "metadata": {},
     "output_type": "display_data"
    },
    {
     "data": {
      "application/vnd.jupyter.widget-view+json": {
       "model_id": "77e145066eca49039fa5226b45f70c77",
       "version_major": 2,
       "version_minor": 0
      },
      "text/plain": [
       "  0%|          | 0/6 [00:00<?, ?it/s]"
      ]
     },
     "metadata": {},
     "output_type": "display_data"
    },
    {
     "name": "stdout",
     "output_type": "stream",
     "text": [
      "E:\\IF\\CCI - Apotom\\Females\\Tifs_adj\\F6_Ib4-Peripherin-NF\\5W\\RC39\\CL\\L5\n"
     ]
    },
    {
     "data": {
      "application/vnd.jupyter.widget-view+json": {
       "model_id": "dc325f6462c2424ab2123ecedb93c361",
       "version_major": 2,
       "version_minor": 0
      },
      "text/plain": [
       "0it [00:00, ?it/s]"
      ]
     },
     "metadata": {},
     "output_type": "display_data"
    },
    {
     "name": "stdout",
     "output_type": "stream",
     "text": [
      "E:\\IF\\CCI - Apotom\\Females\\Tifs_adj\\F6_Ib4-Peripherin-NF\\5W\\RC40\\CL\\L5\n"
     ]
    },
    {
     "data": {
      "application/vnd.jupyter.widget-view+json": {
       "model_id": "2909f51fbbb8497289f738a7320a6251",
       "version_major": 2,
       "version_minor": 0
      },
      "text/plain": [
       "0it [00:00, ?it/s]"
      ]
     },
     "metadata": {},
     "output_type": "display_data"
    },
    {
     "name": "stdout",
     "output_type": "stream",
     "text": [
      "E:\\IF\\CCI - Apotom\\Females\\Tifs_adj\\F6_Ib4-Peripherin-NF\\5W\\RC41\\CL\\L5\n"
     ]
    },
    {
     "data": {
      "application/vnd.jupyter.widget-view+json": {
       "model_id": "313ed8c14ad04ac2b650e534c74bae53",
       "version_major": 2,
       "version_minor": 0
      },
      "text/plain": [
       "0it [00:00, ?it/s]"
      ]
     },
     "metadata": {},
     "output_type": "display_data"
    },
    {
     "name": "stdout",
     "output_type": "stream",
     "text": [
      "E:\\IF\\CCI - Apotom\\Females\\Tifs_adj\\F6_Ib4-Peripherin-NF\\5W\\RC42\\CL\\L5\n"
     ]
    },
    {
     "data": {
      "application/vnd.jupyter.widget-view+json": {
       "model_id": "9997294485ac4352ba791e27d2194b59",
       "version_major": 2,
       "version_minor": 0
      },
      "text/plain": [
       "0it [00:00, ?it/s]"
      ]
     },
     "metadata": {},
     "output_type": "display_data"
    },
    {
     "name": "stdout",
     "output_type": "stream",
     "text": [
      "E:\\IF\\CCI - Apotom\\Females\\Tifs_adj\\F6_Ib4-Peripherin-NF\\5W\\RC43\\CL\\L5\n"
     ]
    },
    {
     "data": {
      "application/vnd.jupyter.widget-view+json": {
       "model_id": "c087c441e42d446580df9e325f223aa4",
       "version_major": 2,
       "version_minor": 0
      },
      "text/plain": [
       "0it [00:00, ?it/s]"
      ]
     },
     "metadata": {},
     "output_type": "display_data"
    },
    {
     "name": "stdout",
     "output_type": "stream",
     "text": [
      "E:\\IF\\CCI - Apotom\\Females\\Tifs_adj\\F6_Ib4-Peripherin-NF\\5W\\RC44\\CL\\L5\n"
     ]
    },
    {
     "data": {
      "application/vnd.jupyter.widget-view+json": {
       "model_id": "59ce7de989394730889e7e6fc0e264b1",
       "version_major": 2,
       "version_minor": 0
      },
      "text/plain": [
       "0it [00:00, ?it/s]"
      ]
     },
     "metadata": {},
     "output_type": "display_data"
    },
    {
     "data": {
      "application/vnd.jupyter.widget-view+json": {
       "model_id": "19c0253ef54a45109bd8239b2ee19bf4",
       "version_major": 2,
       "version_minor": 0
      },
      "text/plain": [
       "  0%|          | 0/6 [00:00<?, ?it/s]"
      ]
     },
     "metadata": {},
     "output_type": "display_data"
    },
    {
     "name": "stdout",
     "output_type": "stream",
     "text": [
      "E:\\IF\\CCI - Apotom\\Females\\Tifs_adj\\F6_Ib4-Peripherin-NF\\5W\\RC39\\IL\\L5\n"
     ]
    },
    {
     "data": {
      "application/vnd.jupyter.widget-view+json": {
       "model_id": "9a72900d5b6a498d8c4f6b463e67d2a5",
       "version_major": 2,
       "version_minor": 0
      },
      "text/plain": [
       "0it [00:00, ?it/s]"
      ]
     },
     "metadata": {},
     "output_type": "display_data"
    },
    {
     "name": "stdout",
     "output_type": "stream",
     "text": [
      "E:\\IF\\CCI - Apotom\\Females\\Tifs_adj\\F6_Ib4-Peripherin-NF\\5W\\RC40\\IL\\L5\n"
     ]
    },
    {
     "data": {
      "application/vnd.jupyter.widget-view+json": {
       "model_id": "511ad9fbeaf04c0bb48bbc0d284d2453",
       "version_major": 2,
       "version_minor": 0
      },
      "text/plain": [
       "0it [00:00, ?it/s]"
      ]
     },
     "metadata": {},
     "output_type": "display_data"
    },
    {
     "name": "stdout",
     "output_type": "stream",
     "text": [
      "E:\\IF\\CCI - Apotom\\Females\\Tifs_adj\\F6_Ib4-Peripherin-NF\\5W\\RC41\\IL\\L5\n"
     ]
    },
    {
     "data": {
      "application/vnd.jupyter.widget-view+json": {
       "model_id": "36d3d730754f40afbc31c28c06b5079e",
       "version_major": 2,
       "version_minor": 0
      },
      "text/plain": [
       "0it [00:00, ?it/s]"
      ]
     },
     "metadata": {},
     "output_type": "display_data"
    },
    {
     "name": "stdout",
     "output_type": "stream",
     "text": [
      "E:\\IF\\CCI - Apotom\\Females\\Tifs_adj\\F6_Ib4-Peripherin-NF\\5W\\RC42\\IL\\L5\n"
     ]
    },
    {
     "data": {
      "application/vnd.jupyter.widget-view+json": {
       "model_id": "fedc6973395941cfb048ba22b4f340de",
       "version_major": 2,
       "version_minor": 0
      },
      "text/plain": [
       "0it [00:00, ?it/s]"
      ]
     },
     "metadata": {},
     "output_type": "display_data"
    },
    {
     "name": "stdout",
     "output_type": "stream",
     "text": [
      "E:\\IF\\CCI - Apotom\\Females\\Tifs_adj\\F6_Ib4-Peripherin-NF\\5W\\RC43\\IL\\L5\n"
     ]
    },
    {
     "data": {
      "application/vnd.jupyter.widget-view+json": {
       "model_id": "6aef78b5540f41b7ad6638d3cdf32346",
       "version_major": 2,
       "version_minor": 0
      },
      "text/plain": [
       "0it [00:00, ?it/s]"
      ]
     },
     "metadata": {},
     "output_type": "display_data"
    },
    {
     "name": "stdout",
     "output_type": "stream",
     "text": [
      "E:\\IF\\CCI - Apotom\\Females\\Tifs_adj\\F6_Ib4-Peripherin-NF\\5W\\RC44\\IL\\L5\n"
     ]
    },
    {
     "data": {
      "application/vnd.jupyter.widget-view+json": {
       "model_id": "97fc928bffc84942b705054476d289c3",
       "version_major": 2,
       "version_minor": 0
      },
      "text/plain": [
       "0it [00:00, ?it/s]"
      ]
     },
     "metadata": {},
     "output_type": "display_data"
    }
   ],
   "source": [
    "images_to_numbers (w5_f , \"F6_f_5W_tissuearea\", getinfo_tissuearea)"
   ]
  },
  {
   "cell_type": "code",
   "execution_count": 16,
   "id": "1be5dd9a",
   "metadata": {},
   "outputs": [
    {
     "data": {
      "application/vnd.jupyter.widget-view+json": {
       "model_id": "f1342053acfb4fb3b1b3ac592233a861",
       "version_major": 2,
       "version_minor": 0
      },
      "text/plain": [
       "  0%|          | 0/4 [00:00<?, ?it/s]"
      ]
     },
     "metadata": {},
     "output_type": "display_data"
    },
    {
     "data": {
      "application/vnd.jupyter.widget-view+json": {
       "model_id": "c50314ade3214557a56447c5dff0c1da",
       "version_major": 2,
       "version_minor": 0
      },
      "text/plain": [
       "  0%|          | 0/5 [00:00<?, ?it/s]"
      ]
     },
     "metadata": {},
     "output_type": "display_data"
    },
    {
     "name": "stdout",
     "output_type": "stream",
     "text": [
      "E:\\IF\\CCI - Apotom\\Males\\5W\\Tifs_Auswahl beste Predictions\\3-IB4_ATF3_NF\\RC20\\CL\\L4\n"
     ]
    },
    {
     "data": {
      "application/vnd.jupyter.widget-view+json": {
       "model_id": "2a443e33f6854da18d4f2f3d17ce685e",
       "version_major": 2,
       "version_minor": 0
      },
      "text/plain": [
       "0it [00:00, ?it/s]"
      ]
     },
     "metadata": {},
     "output_type": "display_data"
    },
    {
     "name": "stdout",
     "output_type": "stream",
     "text": [
      "E:\\IF\\CCI - Apotom\\Males\\5W\\Tifs_Auswahl beste Predictions\\3-IB4_ATF3_NF\\RC21\\CL\\L4\n"
     ]
    },
    {
     "data": {
      "application/vnd.jupyter.widget-view+json": {
       "model_id": "c7e3280f16cf450da98884cde56739d7",
       "version_major": 2,
       "version_minor": 0
      },
      "text/plain": [
       "0it [00:00, ?it/s]"
      ]
     },
     "metadata": {},
     "output_type": "display_data"
    },
    {
     "name": "stdout",
     "output_type": "stream",
     "text": [
      "E:\\IF\\CCI - Apotom\\Males\\5W\\Tifs_Auswahl beste Predictions\\3-IB4_ATF3_NF\\RC22\\CL\\L4\n"
     ]
    },
    {
     "data": {
      "application/vnd.jupyter.widget-view+json": {
       "model_id": "b5003f1f9e8649dba35cd59b2fd89674",
       "version_major": 2,
       "version_minor": 0
      },
      "text/plain": [
       "0it [00:00, ?it/s]"
      ]
     },
     "metadata": {},
     "output_type": "display_data"
    },
    {
     "name": "stdout",
     "output_type": "stream",
     "text": [
      "E:\\IF\\CCI - Apotom\\Males\\5W\\Tifs_Auswahl beste Predictions\\3-IB4_ATF3_NF\\RC23\\CL\\L4\n"
     ]
    },
    {
     "data": {
      "application/vnd.jupyter.widget-view+json": {
       "model_id": "ef6976657a554f06b1cb19a270b153ab",
       "version_major": 2,
       "version_minor": 0
      },
      "text/plain": [
       "0it [00:00, ?it/s]"
      ]
     },
     "metadata": {},
     "output_type": "display_data"
    },
    {
     "name": "stdout",
     "output_type": "stream",
     "text": [
      "E:\\IF\\CCI - Apotom\\Males\\5W\\Tifs_Auswahl beste Predictions\\3-IB4_ATF3_NF\\RC24\\CL\\L4\n"
     ]
    },
    {
     "data": {
      "application/vnd.jupyter.widget-view+json": {
       "model_id": "c431ce2f94224436a57b55146f68c169",
       "version_major": 2,
       "version_minor": 0
      },
      "text/plain": [
       "0it [00:00, ?it/s]"
      ]
     },
     "metadata": {},
     "output_type": "display_data"
    },
    {
     "data": {
      "application/vnd.jupyter.widget-view+json": {
       "model_id": "f209c6c4ddd34597a0a28d1a157856b0",
       "version_major": 2,
       "version_minor": 0
      },
      "text/plain": [
       "  0%|          | 0/5 [00:00<?, ?it/s]"
      ]
     },
     "metadata": {},
     "output_type": "display_data"
    },
    {
     "name": "stdout",
     "output_type": "stream",
     "text": [
      "E:\\IF\\CCI - Apotom\\Males\\5W\\Tifs_Auswahl beste Predictions\\3-IB4_ATF3_NF\\RC20\\IL\\L4\n"
     ]
    },
    {
     "data": {
      "application/vnd.jupyter.widget-view+json": {
       "model_id": "d1b5d8c2b7044e479fb98f6fd2ef96e6",
       "version_major": 2,
       "version_minor": 0
      },
      "text/plain": [
       "0it [00:00, ?it/s]"
      ]
     },
     "metadata": {},
     "output_type": "display_data"
    },
    {
     "name": "stdout",
     "output_type": "stream",
     "text": [
      "E:\\IF\\CCI - Apotom\\Males\\5W\\Tifs_Auswahl beste Predictions\\3-IB4_ATF3_NF\\RC21\\IL\\L4\n"
     ]
    },
    {
     "data": {
      "application/vnd.jupyter.widget-view+json": {
       "model_id": "ee7e8d175ed94eafbab42d2ff9aefd58",
       "version_major": 2,
       "version_minor": 0
      },
      "text/plain": [
       "0it [00:00, ?it/s]"
      ]
     },
     "metadata": {},
     "output_type": "display_data"
    },
    {
     "name": "stdout",
     "output_type": "stream",
     "text": [
      "E:\\IF\\CCI - Apotom\\Males\\5W\\Tifs_Auswahl beste Predictions\\3-IB4_ATF3_NF\\RC22\\IL\\L4\n"
     ]
    },
    {
     "data": {
      "application/vnd.jupyter.widget-view+json": {
       "model_id": "2dbb13d7c1d64f2c9de33cbb53da3a81",
       "version_major": 2,
       "version_minor": 0
      },
      "text/plain": [
       "0it [00:00, ?it/s]"
      ]
     },
     "metadata": {},
     "output_type": "display_data"
    },
    {
     "name": "stdout",
     "output_type": "stream",
     "text": [
      "E:\\IF\\CCI - Apotom\\Males\\5W\\Tifs_Auswahl beste Predictions\\3-IB4_ATF3_NF\\RC23\\IL\\L4\n"
     ]
    },
    {
     "data": {
      "application/vnd.jupyter.widget-view+json": {
       "model_id": "4ea6309eda924f628e9e7e29223fbbff",
       "version_major": 2,
       "version_minor": 0
      },
      "text/plain": [
       "0it [00:00, ?it/s]"
      ]
     },
     "metadata": {},
     "output_type": "display_data"
    },
    {
     "name": "stdout",
     "output_type": "stream",
     "text": [
      "E:\\IF\\CCI - Apotom\\Males\\5W\\Tifs_Auswahl beste Predictions\\3-IB4_ATF3_NF\\RC24\\IL\\L4\n"
     ]
    },
    {
     "data": {
      "application/vnd.jupyter.widget-view+json": {
       "model_id": "815701177fdd47e4ba612ea15ef998f0",
       "version_major": 2,
       "version_minor": 0
      },
      "text/plain": [
       "0it [00:00, ?it/s]"
      ]
     },
     "metadata": {},
     "output_type": "display_data"
    },
    {
     "data": {
      "application/vnd.jupyter.widget-view+json": {
       "model_id": "9b530153de48449b876ba985a04fe356",
       "version_major": 2,
       "version_minor": 0
      },
      "text/plain": [
       "  0%|          | 0/5 [00:00<?, ?it/s]"
      ]
     },
     "metadata": {},
     "output_type": "display_data"
    },
    {
     "name": "stdout",
     "output_type": "stream",
     "text": [
      "E:\\IF\\CCI - Apotom\\Males\\5W\\Tifs_Auswahl beste Predictions\\3-IB4_ATF3_NF\\RC20\\CL\\L5\n"
     ]
    },
    {
     "data": {
      "application/vnd.jupyter.widget-view+json": {
       "model_id": "401f6e7ca5e94d8eafe4e03dd71dbbe6",
       "version_major": 2,
       "version_minor": 0
      },
      "text/plain": [
       "0it [00:00, ?it/s]"
      ]
     },
     "metadata": {},
     "output_type": "display_data"
    },
    {
     "name": "stdout",
     "output_type": "stream",
     "text": [
      "E:\\IF\\CCI - Apotom\\Males\\5W\\Tifs_Auswahl beste Predictions\\3-IB4_ATF3_NF\\RC21\\CL\\L5\n"
     ]
    },
    {
     "data": {
      "application/vnd.jupyter.widget-view+json": {
       "model_id": "3452a520032f44d498ca392bac0e04b4",
       "version_major": 2,
       "version_minor": 0
      },
      "text/plain": [
       "0it [00:00, ?it/s]"
      ]
     },
     "metadata": {},
     "output_type": "display_data"
    },
    {
     "name": "stdout",
     "output_type": "stream",
     "text": [
      "E:\\IF\\CCI - Apotom\\Males\\5W\\Tifs_Auswahl beste Predictions\\3-IB4_ATF3_NF\\RC22\\CL\\L5\n"
     ]
    },
    {
     "data": {
      "application/vnd.jupyter.widget-view+json": {
       "model_id": "5c4191bcbf6c40ebbcb6d79c82554896",
       "version_major": 2,
       "version_minor": 0
      },
      "text/plain": [
       "0it [00:00, ?it/s]"
      ]
     },
     "metadata": {},
     "output_type": "display_data"
    },
    {
     "name": "stdout",
     "output_type": "stream",
     "text": [
      "E:\\IF\\CCI - Apotom\\Males\\5W\\Tifs_Auswahl beste Predictions\\3-IB4_ATF3_NF\\RC23\\CL\\L5\n"
     ]
    },
    {
     "data": {
      "application/vnd.jupyter.widget-view+json": {
       "model_id": "575fc75d1ff5404cb85b45bdc65a5a5d",
       "version_major": 2,
       "version_minor": 0
      },
      "text/plain": [
       "0it [00:00, ?it/s]"
      ]
     },
     "metadata": {},
     "output_type": "display_data"
    },
    {
     "name": "stdout",
     "output_type": "stream",
     "text": [
      "E:\\IF\\CCI - Apotom\\Males\\5W\\Tifs_Auswahl beste Predictions\\3-IB4_ATF3_NF\\RC24\\CL\\L5\n"
     ]
    },
    {
     "data": {
      "application/vnd.jupyter.widget-view+json": {
       "model_id": "b227892a2f474c729f3c0d3cb41813ae",
       "version_major": 2,
       "version_minor": 0
      },
      "text/plain": [
       "0it [00:00, ?it/s]"
      ]
     },
     "metadata": {},
     "output_type": "display_data"
    },
    {
     "data": {
      "application/vnd.jupyter.widget-view+json": {
       "model_id": "849f0f90301b47899376a27c278d1291",
       "version_major": 2,
       "version_minor": 0
      },
      "text/plain": [
       "  0%|          | 0/5 [00:00<?, ?it/s]"
      ]
     },
     "metadata": {},
     "output_type": "display_data"
    },
    {
     "name": "stdout",
     "output_type": "stream",
     "text": [
      "E:\\IF\\CCI - Apotom\\Males\\5W\\Tifs_Auswahl beste Predictions\\3-IB4_ATF3_NF\\RC20\\IL\\L5\n"
     ]
    },
    {
     "data": {
      "application/vnd.jupyter.widget-view+json": {
       "model_id": "043cad492b914a69885da479069d4f2b",
       "version_major": 2,
       "version_minor": 0
      },
      "text/plain": [
       "0it [00:00, ?it/s]"
      ]
     },
     "metadata": {},
     "output_type": "display_data"
    },
    {
     "name": "stdout",
     "output_type": "stream",
     "text": [
      "E:\\IF\\CCI - Apotom\\Males\\5W\\Tifs_Auswahl beste Predictions\\3-IB4_ATF3_NF\\RC21\\IL\\L5\n"
     ]
    },
    {
     "data": {
      "application/vnd.jupyter.widget-view+json": {
       "model_id": "f56f73e8db1d4ccfbc4c5c690f905ca5",
       "version_major": 2,
       "version_minor": 0
      },
      "text/plain": [
       "0it [00:00, ?it/s]"
      ]
     },
     "metadata": {},
     "output_type": "display_data"
    },
    {
     "name": "stdout",
     "output_type": "stream",
     "text": [
      "E:\\IF\\CCI - Apotom\\Males\\5W\\Tifs_Auswahl beste Predictions\\3-IB4_ATF3_NF\\RC22\\IL\\L5\n"
     ]
    },
    {
     "data": {
      "application/vnd.jupyter.widget-view+json": {
       "model_id": "5ece4d9b20c54e5a8c0edb5f4407aad9",
       "version_major": 2,
       "version_minor": 0
      },
      "text/plain": [
       "0it [00:00, ?it/s]"
      ]
     },
     "metadata": {},
     "output_type": "display_data"
    },
    {
     "name": "stdout",
     "output_type": "stream",
     "text": [
      "E:\\IF\\CCI - Apotom\\Males\\5W\\Tifs_Auswahl beste Predictions\\3-IB4_ATF3_NF\\RC23\\IL\\L5\n"
     ]
    },
    {
     "data": {
      "application/vnd.jupyter.widget-view+json": {
       "model_id": "71b797e021744862ab6a904cecf00fe2",
       "version_major": 2,
       "version_minor": 0
      },
      "text/plain": [
       "0it [00:00, ?it/s]"
      ]
     },
     "metadata": {},
     "output_type": "display_data"
    },
    {
     "name": "stdout",
     "output_type": "stream",
     "text": [
      "E:\\IF\\CCI - Apotom\\Males\\5W\\Tifs_Auswahl beste Predictions\\3-IB4_ATF3_NF\\RC24\\IL\\L5\n"
     ]
    },
    {
     "data": {
      "application/vnd.jupyter.widget-view+json": {
       "model_id": "ac6ac552c5c04495a1ab74c781b3b1d4",
       "version_major": 2,
       "version_minor": 0
      },
      "text/plain": [
       "0it [00:00, ?it/s]"
      ]
     },
     "metadata": {},
     "output_type": "display_data"
    }
   ],
   "source": [
    "images_to_numbers (w5_m , \"F3_m_5W_tissuearea\", getinfo_tissuearea)"
   ]
  },
  {
   "cell_type": "code",
   "execution_count": 17,
   "id": "92cd7f9e",
   "metadata": {
    "scrolled": true
   },
   "outputs": [
    {
     "data": {
      "application/vnd.jupyter.widget-view+json": {
       "model_id": "0ca5d413c1d643d1a5bfdeebe6588258",
       "version_major": 2,
       "version_minor": 0
      },
      "text/plain": [
       "  0%|          | 0/4 [00:00<?, ?it/s]"
      ]
     },
     "metadata": {},
     "output_type": "display_data"
    },
    {
     "data": {
      "application/vnd.jupyter.widget-view+json": {
       "model_id": "ad1e493055ed4e1e951c927a87e301b3",
       "version_major": 2,
       "version_minor": 0
      },
      "text/plain": [
       "  0%|          | 0/6 [00:00<?, ?it/s]"
      ]
     },
     "metadata": {},
     "output_type": "display_data"
    },
    {
     "name": "stdout",
     "output_type": "stream",
     "text": [
      "E:\\IF\\CCI - Apotom\\Males\\1W\\Tifs_Auswahl beste Predictions\\3-IB4_ATF3_NF\\RC2\\CL\\L4\n"
     ]
    },
    {
     "data": {
      "application/vnd.jupyter.widget-view+json": {
       "model_id": "f280065f567d4c4dbf50f94e49c0c80c",
       "version_major": 2,
       "version_minor": 0
      },
      "text/plain": [
       "0it [00:00, ?it/s]"
      ]
     },
     "metadata": {},
     "output_type": "display_data"
    },
    {
     "name": "stdout",
     "output_type": "stream",
     "text": [
      "E:\\IF\\CCI - Apotom\\Males\\1W\\Tifs_Auswahl beste Predictions\\3-IB4_ATF3_NF\\RC3\\CL\\L4\n"
     ]
    },
    {
     "data": {
      "application/vnd.jupyter.widget-view+json": {
       "model_id": "4456eb0a4db44517a690ad4dd36e6db5",
       "version_major": 2,
       "version_minor": 0
      },
      "text/plain": [
       "0it [00:00, ?it/s]"
      ]
     },
     "metadata": {},
     "output_type": "display_data"
    },
    {
     "name": "stdout",
     "output_type": "stream",
     "text": [
      "E:\\IF\\CCI - Apotom\\Males\\1W\\Tifs_Auswahl beste Predictions\\3-IB4_ATF3_NF\\RC4\\CL\\L4\n"
     ]
    },
    {
     "data": {
      "application/vnd.jupyter.widget-view+json": {
       "model_id": "ee509a51b79d47ea955fc5e057d01a44",
       "version_major": 2,
       "version_minor": 0
      },
      "text/plain": [
       "0it [00:00, ?it/s]"
      ]
     },
     "metadata": {},
     "output_type": "display_data"
    },
    {
     "name": "stdout",
     "output_type": "stream",
     "text": [
      "E:\\IF\\CCI - Apotom\\Males\\1W\\Tifs_Auswahl beste Predictions\\3-IB4_ATF3_NF\\RC5\\CL\\L4\n"
     ]
    },
    {
     "data": {
      "application/vnd.jupyter.widget-view+json": {
       "model_id": "1cdfdbb9e9b04191abd43f7f587b7239",
       "version_major": 2,
       "version_minor": 0
      },
      "text/plain": [
       "0it [00:00, ?it/s]"
      ]
     },
     "metadata": {},
     "output_type": "display_data"
    },
    {
     "name": "stdout",
     "output_type": "stream",
     "text": [
      "E:\\IF\\CCI - Apotom\\Males\\1W\\Tifs_Auswahl beste Predictions\\3-IB4_ATF3_NF\\RC6\\CL\\L4\n"
     ]
    },
    {
     "data": {
      "application/vnd.jupyter.widget-view+json": {
       "model_id": "255aef23a9414f92adf7af246a63759a",
       "version_major": 2,
       "version_minor": 0
      },
      "text/plain": [
       "0it [00:00, ?it/s]"
      ]
     },
     "metadata": {},
     "output_type": "display_data"
    },
    {
     "name": "stdout",
     "output_type": "stream",
     "text": [
      "E:\\IF\\CCI - Apotom\\Males\\1W\\Tifs_Auswahl beste Predictions\\3-IB4_ATF3_NF\\RC7\\CL\\L4\n"
     ]
    },
    {
     "data": {
      "application/vnd.jupyter.widget-view+json": {
       "model_id": "5e9680c9518f425785c35a2e8988e6fa",
       "version_major": 2,
       "version_minor": 0
      },
      "text/plain": [
       "0it [00:00, ?it/s]"
      ]
     },
     "metadata": {},
     "output_type": "display_data"
    },
    {
     "data": {
      "application/vnd.jupyter.widget-view+json": {
       "model_id": "9016c0e217df43a0a447541b725862ec",
       "version_major": 2,
       "version_minor": 0
      },
      "text/plain": [
       "  0%|          | 0/6 [00:00<?, ?it/s]"
      ]
     },
     "metadata": {},
     "output_type": "display_data"
    },
    {
     "name": "stdout",
     "output_type": "stream",
     "text": [
      "E:\\IF\\CCI - Apotom\\Males\\1W\\Tifs_Auswahl beste Predictions\\3-IB4_ATF3_NF\\RC2\\IL\\L4\n"
     ]
    },
    {
     "data": {
      "application/vnd.jupyter.widget-view+json": {
       "model_id": "9b41c3b763df484b86ce29239f07fdb3",
       "version_major": 2,
       "version_minor": 0
      },
      "text/plain": [
       "0it [00:00, ?it/s]"
      ]
     },
     "metadata": {},
     "output_type": "display_data"
    },
    {
     "name": "stdout",
     "output_type": "stream",
     "text": [
      "E:\\IF\\CCI - Apotom\\Males\\1W\\Tifs_Auswahl beste Predictions\\3-IB4_ATF3_NF\\RC3\\IL\\L4\n"
     ]
    },
    {
     "data": {
      "application/vnd.jupyter.widget-view+json": {
       "model_id": "dc5e698124d24452b295448f0279e1e3",
       "version_major": 2,
       "version_minor": 0
      },
      "text/plain": [
       "0it [00:00, ?it/s]"
      ]
     },
     "metadata": {},
     "output_type": "display_data"
    },
    {
     "name": "stdout",
     "output_type": "stream",
     "text": [
      "E:\\IF\\CCI - Apotom\\Males\\1W\\Tifs_Auswahl beste Predictions\\3-IB4_ATF3_NF\\RC4\\IL\\L4\n"
     ]
    },
    {
     "data": {
      "application/vnd.jupyter.widget-view+json": {
       "model_id": "528857a21e7148269c2060ec8194bcf9",
       "version_major": 2,
       "version_minor": 0
      },
      "text/plain": [
       "0it [00:00, ?it/s]"
      ]
     },
     "metadata": {},
     "output_type": "display_data"
    },
    {
     "name": "stdout",
     "output_type": "stream",
     "text": [
      "E:\\IF\\CCI - Apotom\\Males\\1W\\Tifs_Auswahl beste Predictions\\3-IB4_ATF3_NF\\RC5\\IL\\L4\n"
     ]
    },
    {
     "data": {
      "application/vnd.jupyter.widget-view+json": {
       "model_id": "0a016495e4b14098894de5d4619719f4",
       "version_major": 2,
       "version_minor": 0
      },
      "text/plain": [
       "0it [00:00, ?it/s]"
      ]
     },
     "metadata": {},
     "output_type": "display_data"
    },
    {
     "name": "stdout",
     "output_type": "stream",
     "text": [
      "E:\\IF\\CCI - Apotom\\Males\\1W\\Tifs_Auswahl beste Predictions\\3-IB4_ATF3_NF\\RC6\\IL\\L4\n"
     ]
    },
    {
     "data": {
      "application/vnd.jupyter.widget-view+json": {
       "model_id": "4644955224fa4e2fa094cfec4924d25d",
       "version_major": 2,
       "version_minor": 0
      },
      "text/plain": [
       "0it [00:00, ?it/s]"
      ]
     },
     "metadata": {},
     "output_type": "display_data"
    },
    {
     "name": "stdout",
     "output_type": "stream",
     "text": [
      "E:\\IF\\CCI - Apotom\\Males\\1W\\Tifs_Auswahl beste Predictions\\3-IB4_ATF3_NF\\RC7\\IL\\L4\n"
     ]
    },
    {
     "data": {
      "application/vnd.jupyter.widget-view+json": {
       "model_id": "e70a2cec78db4d09a33bcfb0702cacd5",
       "version_major": 2,
       "version_minor": 0
      },
      "text/plain": [
       "0it [00:00, ?it/s]"
      ]
     },
     "metadata": {},
     "output_type": "display_data"
    },
    {
     "data": {
      "application/vnd.jupyter.widget-view+json": {
       "model_id": "adf4fc4641b044908b7ea3f293b7c80c",
       "version_major": 2,
       "version_minor": 0
      },
      "text/plain": [
       "  0%|          | 0/6 [00:00<?, ?it/s]"
      ]
     },
     "metadata": {},
     "output_type": "display_data"
    },
    {
     "name": "stdout",
     "output_type": "stream",
     "text": [
      "E:\\IF\\CCI - Apotom\\Males\\1W\\Tifs_Auswahl beste Predictions\\3-IB4_ATF3_NF\\RC2\\CL\\L5\n"
     ]
    },
    {
     "data": {
      "application/vnd.jupyter.widget-view+json": {
       "model_id": "595c1bfba0c64bad9a1d69b2347619bd",
       "version_major": 2,
       "version_minor": 0
      },
      "text/plain": [
       "0it [00:00, ?it/s]"
      ]
     },
     "metadata": {},
     "output_type": "display_data"
    },
    {
     "name": "stdout",
     "output_type": "stream",
     "text": [
      "E:\\IF\\CCI - Apotom\\Males\\1W\\Tifs_Auswahl beste Predictions\\3-IB4_ATF3_NF\\RC3\\CL\\L5\n"
     ]
    },
    {
     "data": {
      "application/vnd.jupyter.widget-view+json": {
       "model_id": "5ab32f4339fb4118984eaab854422c95",
       "version_major": 2,
       "version_minor": 0
      },
      "text/plain": [
       "0it [00:00, ?it/s]"
      ]
     },
     "metadata": {},
     "output_type": "display_data"
    },
    {
     "name": "stdout",
     "output_type": "stream",
     "text": [
      "E:\\IF\\CCI - Apotom\\Males\\1W\\Tifs_Auswahl beste Predictions\\3-IB4_ATF3_NF\\RC4\\CL\\L5\n"
     ]
    },
    {
     "data": {
      "application/vnd.jupyter.widget-view+json": {
       "model_id": "c523139bba4c43c78d80cf59bf13abde",
       "version_major": 2,
       "version_minor": 0
      },
      "text/plain": [
       "0it [00:00, ?it/s]"
      ]
     },
     "metadata": {},
     "output_type": "display_data"
    },
    {
     "name": "stdout",
     "output_type": "stream",
     "text": [
      "E:\\IF\\CCI - Apotom\\Males\\1W\\Tifs_Auswahl beste Predictions\\3-IB4_ATF3_NF\\RC5\\CL\\L5\n"
     ]
    },
    {
     "data": {
      "application/vnd.jupyter.widget-view+json": {
       "model_id": "c79771e05ed94fc59d60b57906ff6642",
       "version_major": 2,
       "version_minor": 0
      },
      "text/plain": [
       "0it [00:00, ?it/s]"
      ]
     },
     "metadata": {},
     "output_type": "display_data"
    },
    {
     "name": "stdout",
     "output_type": "stream",
     "text": [
      "E:\\IF\\CCI - Apotom\\Males\\1W\\Tifs_Auswahl beste Predictions\\3-IB4_ATF3_NF\\RC6\\CL\\L5\n"
     ]
    },
    {
     "data": {
      "application/vnd.jupyter.widget-view+json": {
       "model_id": "f3f66b2cea244e15af6bd91f93dd6296",
       "version_major": 2,
       "version_minor": 0
      },
      "text/plain": [
       "0it [00:00, ?it/s]"
      ]
     },
     "metadata": {},
     "output_type": "display_data"
    },
    {
     "name": "stdout",
     "output_type": "stream",
     "text": [
      "E:\\IF\\CCI - Apotom\\Males\\1W\\Tifs_Auswahl beste Predictions\\3-IB4_ATF3_NF\\RC7\\CL\\L5\n"
     ]
    },
    {
     "data": {
      "application/vnd.jupyter.widget-view+json": {
       "model_id": "fcbd3141feb947eea4488eea7a2f47b0",
       "version_major": 2,
       "version_minor": 0
      },
      "text/plain": [
       "0it [00:00, ?it/s]"
      ]
     },
     "metadata": {},
     "output_type": "display_data"
    },
    {
     "data": {
      "application/vnd.jupyter.widget-view+json": {
       "model_id": "6dff8cac64504782af6a1df5c4fbdf48",
       "version_major": 2,
       "version_minor": 0
      },
      "text/plain": [
       "  0%|          | 0/6 [00:00<?, ?it/s]"
      ]
     },
     "metadata": {},
     "output_type": "display_data"
    },
    {
     "name": "stdout",
     "output_type": "stream",
     "text": [
      "E:\\IF\\CCI - Apotom\\Males\\1W\\Tifs_Auswahl beste Predictions\\3-IB4_ATF3_NF\\RC2\\IL\\L5\n"
     ]
    },
    {
     "data": {
      "application/vnd.jupyter.widget-view+json": {
       "model_id": "4fd5930490254f05a3253b20e3fafc47",
       "version_major": 2,
       "version_minor": 0
      },
      "text/plain": [
       "0it [00:00, ?it/s]"
      ]
     },
     "metadata": {},
     "output_type": "display_data"
    },
    {
     "name": "stdout",
     "output_type": "stream",
     "text": [
      "E:\\IF\\CCI - Apotom\\Males\\1W\\Tifs_Auswahl beste Predictions\\3-IB4_ATF3_NF\\RC3\\IL\\L5\n"
     ]
    },
    {
     "data": {
      "application/vnd.jupyter.widget-view+json": {
       "model_id": "a9216aec25fe48c089408ed99680ecd9",
       "version_major": 2,
       "version_minor": 0
      },
      "text/plain": [
       "0it [00:00, ?it/s]"
      ]
     },
     "metadata": {},
     "output_type": "display_data"
    },
    {
     "name": "stdout",
     "output_type": "stream",
     "text": [
      "E:\\IF\\CCI - Apotom\\Males\\1W\\Tifs_Auswahl beste Predictions\\3-IB4_ATF3_NF\\RC4\\IL\\L5\n"
     ]
    },
    {
     "data": {
      "application/vnd.jupyter.widget-view+json": {
       "model_id": "93d5e5cd94744a34b2e0ae98511fbbb6",
       "version_major": 2,
       "version_minor": 0
      },
      "text/plain": [
       "0it [00:00, ?it/s]"
      ]
     },
     "metadata": {},
     "output_type": "display_data"
    },
    {
     "name": "stdout",
     "output_type": "stream",
     "text": [
      "E:\\IF\\CCI - Apotom\\Males\\1W\\Tifs_Auswahl beste Predictions\\3-IB4_ATF3_NF\\RC5\\IL\\L5\n"
     ]
    },
    {
     "data": {
      "application/vnd.jupyter.widget-view+json": {
       "model_id": "eef72a1af77c42f5ad0db3d0fe9caa56",
       "version_major": 2,
       "version_minor": 0
      },
      "text/plain": [
       "0it [00:00, ?it/s]"
      ]
     },
     "metadata": {},
     "output_type": "display_data"
    },
    {
     "name": "stdout",
     "output_type": "stream",
     "text": [
      "E:\\IF\\CCI - Apotom\\Males\\1W\\Tifs_Auswahl beste Predictions\\3-IB4_ATF3_NF\\RC6\\IL\\L5\n"
     ]
    },
    {
     "data": {
      "application/vnd.jupyter.widget-view+json": {
       "model_id": "1dd0ba2f053240a0954274f54fabf9dc",
       "version_major": 2,
       "version_minor": 0
      },
      "text/plain": [
       "0it [00:00, ?it/s]"
      ]
     },
     "metadata": {},
     "output_type": "display_data"
    },
    {
     "name": "stdout",
     "output_type": "stream",
     "text": [
      "E:\\IF\\CCI - Apotom\\Males\\1W\\Tifs_Auswahl beste Predictions\\3-IB4_ATF3_NF\\RC7\\IL\\L5\n"
     ]
    },
    {
     "data": {
      "application/vnd.jupyter.widget-view+json": {
       "model_id": "3e575ac1d14e4b278fdfa59eafd5d549",
       "version_major": 2,
       "version_minor": 0
      },
      "text/plain": [
       "0it [00:00, ?it/s]"
      ]
     },
     "metadata": {},
     "output_type": "display_data"
    }
   ],
   "source": [
    "images_to_numbers (w1_m , \"F3_m_1W_tissuearea\", getinfo_tissuearea)"
   ]
  },
  {
   "cell_type": "code",
   "execution_count": null,
   "id": "303b872f",
   "metadata": {},
   "outputs": [],
   "source": []
  },
  {
   "cell_type": "code",
   "execution_count": null,
   "id": "31b9efe6",
   "metadata": {},
   "outputs": [],
   "source": []
  }
 ],
 "metadata": {
  "kernelspec": {
   "display_name": "Python 3",
   "language": "python",
   "name": "python3"
  },
  "language_info": {
   "codemirror_mode": {
    "name": "ipython",
    "version": 3
   },
   "file_extension": ".py",
   "mimetype": "text/x-python",
   "name": "python",
   "nbconvert_exporter": "python",
   "pygments_lexer": "ipython3",
   "version": "3.8.8"
  }
 },
 "nbformat": 4,
 "nbformat_minor": 5
}
