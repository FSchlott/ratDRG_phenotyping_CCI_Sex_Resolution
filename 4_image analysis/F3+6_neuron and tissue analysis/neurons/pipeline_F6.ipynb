{
 "cells": [
  {
   "cell_type": "code",
   "execution_count": null,
   "id": "dc04c011",
   "metadata": {},
   "outputs": [],
   "source": [
    "import os\n",
    "import getinfo_F6\n",
    "from tqdm.auto import tqdm\n",
    "import json"
   ]
  },
  {
   "cell_type": "code",
   "execution_count": null,
   "id": "ce76a7f3",
   "metadata": {},
   "outputs": [],
   "source": [
    "#puts paths for each group in a dictionary\n",
    "def get_paths (rootdir):\n",
    "    subdirs_L4CL = []\n",
    "    subdirs_L5CL = []\n",
    "    subdirs_L4IL = []\n",
    "    subdirs_L5IL = []\n",
    "    for subdir, dirs, files in os.walk(rootdir):\n",
    "        if subdir.endswith (\"CL\\L4\"): \n",
    "            subdirs_L4CL.append(subdir)\n",
    "            #print (subdir)\n",
    "        elif subdir.endswith('IL\\L4'):\n",
    "            subdirs_L4IL.append(subdir)\n",
    "            #print (subdir)\n",
    "        elif subdir.endswith('CL\\L5'):\n",
    "            subdirs_L5CL.append(subdir)\n",
    "            #print (subdir)\n",
    "        elif subdir.endswith('IL\\L5'):\n",
    "            subdirs_L5IL.append(subdir)\n",
    "            #print (subdir)\n",
    "    return {'L4CL':subdirs_L4CL, 'L4IL':subdirs_L4IL, 'L5CL':subdirs_L5CL, 'L5IL':subdirs_L5IL}"
   ]
  },
  {
   "cell_type": "code",
   "execution_count": null,
   "id": "14edbd2c",
   "metadata": {},
   "outputs": [],
   "source": [
    "w1_f = get_paths(r\"D:\\IF\\Females\\Tifs_adj\\F6_Ib4-Peripherin-NF\\1W\")\n",
    "w5_f = get_paths(r\"D:\\IF\\Females\\Tifs_adj\\F6_Ib4-Peripherin-NF\\5W\")"
   ]
  },
  {
   "cell_type": "code",
   "execution_count": null,
   "id": "f69510ff",
   "metadata": {},
   "outputs": [],
   "source": [
    "#group is the experimental group, e.g. w1_f\n",
    "#name is a string for the name of the group\n",
    "def images_to_numbers(group, name, analysisfile):\n",
    "    results = []\n",
    "    for drg_group in tqdm(group):\n",
    "        #print (group)\n",
    "        for subdir in tqdm(group[drg_group]):\n",
    "            print (subdir)\n",
    "            data = analysisfile.ImageData(subdir)\n",
    "            results.append({\n",
    "                \"group\":drg_group,\n",
    "                \"path\":subdir, \n",
    "                \"nf_anz\": data.nf_anz_L, \n",
    "                \"ib4_anz\": data.ib4_anz_L,  \n",
    "                \"nf_ib4_overlap_anz\": data.overlap_nf_ib4_anz_L,\n",
    "                \"ib4_per_nf\": data.ib4_per_nf_L, \n",
    "                \"ib4oL_per_nf\": data.ib4oL_per_nf_L,\n",
    "                \n",
    "                \"nf_sizes\": data.nf_sizes_L, \n",
    "                \"ib4_sizes\": data.ib4_sizes_L,\n",
    "                            })\n",
    "    with open(name+\".json\", \"w\") as file:\n",
    "        file.write(json.dumps(results, indent=4))"
   ]
  },
  {
   "cell_type": "code",
   "execution_count": null,
   "id": "b2ebca10",
   "metadata": {},
   "outputs": [],
   "source": [
    "images_to_numbers (w1_f , \"F6_f_1W\", getinfo_F6)"
   ]
  },
  {
   "cell_type": "code",
   "execution_count": null,
   "id": "8918f18c",
   "metadata": {
    "scrolled": true
   },
   "outputs": [],
   "source": [
    "images_to_numbers (w5_f , \"F6_f_5W\", getinfo_F6)"
   ]
  },
  {
   "cell_type": "code",
   "execution_count": null,
   "id": "303b872f",
   "metadata": {},
   "outputs": [],
   "source": []
  }
 ],
 "metadata": {
  "kernelspec": {
   "display_name": "Python 3",
   "language": "python",
   "name": "python3"
  },
  "language_info": {
   "codemirror_mode": {
    "name": "ipython",
    "version": 3
   },
   "file_extension": ".py",
   "mimetype": "text/x-python",
   "name": "python",
   "nbconvert_exporter": "python",
   "pygments_lexer": "ipython3",
   "version": "3.8.8"
  }
 },
 "nbformat": 4,
 "nbformat_minor": 5
}
