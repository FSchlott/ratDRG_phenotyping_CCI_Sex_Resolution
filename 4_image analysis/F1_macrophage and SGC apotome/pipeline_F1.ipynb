{
 "cells": [
  {
   "cell_type": "code",
   "execution_count": null,
   "id": "dc04c011",
   "metadata": {},
   "outputs": [],
   "source": [
    "import os\n",
    "import getinfo_F1 \n",
    "from tqdm.auto import tqdm\n",
    "import json"
   ]
  },
  {
   "cell_type": "code",
   "execution_count": null,
   "id": "ce76a7f3",
   "metadata": {},
   "outputs": [],
   "source": [
    "#puts paths for each group in a dictionary\n",
    "def get_paths (rootdir):\n",
    "    subdirs_L4CL = []\n",
    "    subdirs_L5CL = []\n",
    "    subdirs_L4IL = []\n",
    "    subdirs_L5IL = []\n",
    "    for subdir, dirs, files in os.walk(rootdir):\n",
    "        if subdir.endswith (\"CL\\L4\"): \n",
    "            subdirs_L4CL.append(subdir)\n",
    "            print (subdir)\n",
    "        elif subdir.endswith('IL\\L4'):\n",
    "            subdirs_L4IL.append(subdir)\n",
    "            print (subdir)\n",
    "        elif subdir.endswith('CL\\L5'):\n",
    "            subdirs_L5CL.append(subdir)\n",
    "            print (subdir)\n",
    "        elif subdir.endswith('IL\\L5'):\n",
    "            subdirs_L5IL.append(subdir)\n",
    "            print (subdir)\n",
    "    return {'L4CL':subdirs_L4CL, 'L4IL':subdirs_L4IL, 'L5CL':subdirs_L5CL, 'L5IL':subdirs_L5IL}"
   ]
  },
  {
   "cell_type": "code",
   "execution_count": null,
   "id": "f69510ff",
   "metadata": {},
   "outputs": [],
   "source": [
    "#group is the experimental group, e.g. W1_f\n",
    "#name is a string for the name of the group\n",
    "def images_to_numbers(group, name):\n",
    "    results = []\n",
    "    for drg_group in tqdm(group):  \n",
    "            for subdir in tqdm(group[drg_group]):\n",
    "                print (subdir)\n",
    "                data = getinfo_F1_2.ImageData(subdir)\n",
    "                results.append({\n",
    "                    \"group\":drg_group,\n",
    "                    \"path\":subdir,\n",
    "                    \"iba1_per_neuronricharea\": data.iba1_per_nra_L,\n",
    "                    \"gfap_per_neuronricharea\": data.gfap_per_nra_L,\n",
    "                    \"iba1_anz\": data.iba1_anz_L, \n",
    "                    \"gfap_anz\": data.gfap_anz_L, \n",
    "                    \"neuronarea\": data.neuronarea_um_L, \n",
    "                    \"iba1_um\": data.iba1_um_L,\n",
    "                    \"gfap_um\": data.gfap_um_L\n",
    "            })\n",
    "    with open(name+\".json\", \"w\") as file:\n",
    "        file.write(json.dumps(results, indent=4))"
   ]
  },
  {
   "cell_type": "code",
   "execution_count": null,
   "id": "b2ebca10",
   "metadata": {},
   "outputs": [],
   "source": [
    "W1_f = get_paths(r\"D:\\IF\\CCI - Apotom\\Females\\Tifs_adj\\1W\\F1_NF-GFAP-Iba1\") #adjust path\n",
    "images_to_numbers (W1_f , \"F1_W1_F\") #adjust condition and name\n",
    "#repeat for all conditions"
   ]
  },
  {
   "cell_type": "code",
   "execution_count": null,
   "id": "25950d67",
   "metadata": {},
   "outputs": [],
   "source": []
  }
 ],
 "metadata": {
  "kernelspec": {
   "display_name": "Python 3",
   "language": "python",
   "name": "python3"
  },
  "language_info": {
   "codemirror_mode": {
    "name": "ipython",
    "version": 3
   },
   "file_extension": ".py",
   "mimetype": "text/x-python",
   "name": "python",
   "nbconvert_exporter": "python",
   "pygments_lexer": "ipython3",
   "version": "3.8.8"
  }
 },
 "nbformat": 4,
 "nbformat_minor": 5
}
