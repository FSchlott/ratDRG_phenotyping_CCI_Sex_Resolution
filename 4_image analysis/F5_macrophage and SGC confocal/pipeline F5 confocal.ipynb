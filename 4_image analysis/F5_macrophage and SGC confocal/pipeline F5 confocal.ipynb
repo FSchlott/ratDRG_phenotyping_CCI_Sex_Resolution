{
 "cells": [
  {
   "cell_type": "code",
   "execution_count": null,
   "id": "dc04c011",
   "metadata": {},
   "outputs": [],
   "source": [
    "import os\n",
    "import getinfo_F5_confocal\n",
    "from tqdm.auto import tqdm\n",
    "import json"
   ]
  },
  {
   "cell_type": "code",
   "execution_count": null,
   "id": "ce76a7f3",
   "metadata": {},
   "outputs": [],
   "source": [
    "#puts paths for each group in a dictionary \n",
    "def get_paths (rootdir):\n",
    "    subdirs_CL = []\n",
    "    subdirs_IL = []\n",
    "    for subdir, dirs, files in os.walk(rootdir):\n",
    "        if subdir.endswith (\"CL\"): \n",
    "            subdirs_CL.append(subdir)\n",
    "            print (subdir)\n",
    "        elif subdir.endswith('IL'):\n",
    "            subdirs_IL.append(subdir)\n",
    "            print (subdir)\n",
    "    return {'CL':subdirs_CL, 'IL':subdirs_IL}"
   ]
  },
  {
   "cell_type": "code",
   "execution_count": 3,
   "id": "a751f980",
   "metadata": {
    "collapsed": true
   },
   "outputs": [
    {
     "name": "stdout",
     "output_type": "stream",
     "text": [
      "D:\\IF\\CCI - Confocal\\F5_males\\Tifs_max\\1W\\RC1\\CL\n",
      "D:\\IF\\CCI - Confocal\\F5_males\\Tifs_max\\1W\\RC1\\IL\n",
      "D:\\IF\\CCI - Confocal\\F5_males\\Tifs_max\\1W\\RC3\\CL\n",
      "D:\\IF\\CCI - Confocal\\F5_males\\Tifs_max\\1W\\RC3\\IL\n",
      "D:\\IF\\CCI - Confocal\\F5_males\\Tifs_max\\1W\\RC4\\CL\n",
      "D:\\IF\\CCI - Confocal\\F5_males\\Tifs_max\\1W\\RC4\\IL\n",
      "D:\\IF\\CCI - Confocal\\F5_males\\Tifs_max\\1W\\RC5\\CL\n",
      "D:\\IF\\CCI - Confocal\\F5_males\\Tifs_max\\1W\\RC5\\IL\n",
      "D:\\IF\\CCI - Confocal\\F5_females\\Tifs_max\\1W\\RC54\\CL\n",
      "D:\\IF\\CCI - Confocal\\F5_females\\Tifs_max\\1W\\RC54\\IL\n",
      "D:\\IF\\CCI - Confocal\\F5_females\\Tifs_max\\1W\\RC55\\CL\n",
      "D:\\IF\\CCI - Confocal\\F5_females\\Tifs_max\\1W\\RC55\\IL\n",
      "D:\\IF\\CCI - Confocal\\F5_females\\Tifs_max\\1W\\RC56\\CL\n",
      "D:\\IF\\CCI - Confocal\\F5_females\\Tifs_max\\1W\\RC56\\IL\n",
      "D:\\IF\\CCI - Confocal\\F5_females\\Tifs_max\\1W\\RC57\\CL\n",
      "D:\\IF\\CCI - Confocal\\F5_females\\Tifs_max\\1W\\RC57\\IL\n",
      "D:\\IF\\CCI - Confocal\\F5_males\\Tifs_max\\5W\\RC20\\CL\n",
      "D:\\IF\\CCI - Confocal\\F5_males\\Tifs_max\\5W\\RC20\\IL\n",
      "D:\\IF\\CCI - Confocal\\F5_males\\Tifs_max\\5W\\RC21\\CL\n",
      "D:\\IF\\CCI - Confocal\\F5_males\\Tifs_max\\5W\\RC21\\IL\n",
      "D:\\IF\\CCI - Confocal\\F5_males\\Tifs_max\\5W\\RC22\\CL\n",
      "D:\\IF\\CCI - Confocal\\F5_males\\Tifs_max\\5W\\RC22\\IL\n",
      "D:\\IF\\CCI - Confocal\\F5_males\\Tifs_max\\5W\\RC24\\CL\n",
      "D:\\IF\\CCI - Confocal\\F5_males\\Tifs_max\\5W\\RC24\\IL\n",
      "D:\\IF\\CCI - Confocal\\F5_females\\Tifs_max\\5W\\RC40\\CL\n",
      "D:\\IF\\CCI - Confocal\\F5_females\\Tifs_max\\5W\\RC40\\IL\n",
      "D:\\IF\\CCI - Confocal\\F5_females\\Tifs_max\\5W\\RC42\\CL\n",
      "D:\\IF\\CCI - Confocal\\F5_females\\Tifs_max\\5W\\RC42\\IL\n",
      "D:\\IF\\CCI - Confocal\\F5_females\\Tifs_max\\5W\\RC43\\CL\n",
      "D:\\IF\\CCI - Confocal\\F5_females\\Tifs_max\\5W\\RC43\\IL\n",
      "D:\\IF\\CCI - Confocal\\F5_females\\Tifs_max\\5W\\RC44\\CL\n",
      "D:\\IF\\CCI - Confocal\\F5_females\\Tifs_max\\5W\\RC44\\IL\n"
     ]
    }
   ],
   "source": [
    "W1_m = get_paths(r\"D:\\IF\\CCI - Confocal\\F5_males\\Tifs_max\\1W\")\n",
    "W1_f = get_paths(r\"D:\\IF\\CCI - Confocal\\F5_females\\Tifs_max\\1W\")\n",
    "W5_m = get_paths(r\"D:\\IF\\CCI - Confocal\\F5_males\\Tifs_max\\5W\")\n",
    "W5_f = get_paths(r\"D:\\IF\\CCI - Confocal\\F5_females\\Tifs_max\\5W\")"
   ]
  },
  {
   "cell_type": "code",
   "execution_count": null,
   "id": "f69510ff",
   "metadata": {},
   "outputs": [],
   "source": [
    "#group is the experimental group, e.g. W1_f\n",
    "#name is a string for the name of the group\n",
    "def images_to_numbers(group, name):\n",
    "    results = []\n",
    "    for drg_group in tqdm(group):  \n",
    "            for subdir in tqdm(group[drg_group]):\n",
    "                print (subdir)\n",
    "                data = getinfo_F5_confocal.ImageData(subdir)\n",
    "                results.append({\n",
    "                    \"group\":drg_group,\n",
    "                    \"path\":subdir,\n",
    "                    \"edges_pct_iba1\": data.edges_pct_iba1_L,\n",
    "                    \"inv_pct_iba1\": data.inv_pct_iba1_L, \n",
    "                    \"inv_pct_iba1\": data.dil1_pct_iba1_L,\n",
    "                    \"dil2_pct_iba1\": data.dil2_pct_iba1_L,\n",
    "                    \"edges_pct_fabp7\": data.edges_pct_fabp7_L,\n",
    "                    \"inv_pct_fabp7\": data.inv_pct_fabp7_L, \n",
    "                    \"dil1_pct_fabp7\": data.dil1_pct_fabp7_L,\n",
    "                    \"dil2_pct_fabp7\": data.dil2_pct_fabp7_L,\n",
    "                    \n",
    "                    \"nf_anz\": data.nf_anz_L, \n",
    "                    \"iba1_anz\": data.iba1_anz_L, \n",
    "                    \"fabp7_anz\": data.fabp7_anz_L, \n",
    "                    \"nf_px\": data.nf_px_L,\n",
    "                    \"iba1_px\": data.iba1_px_L,\n",
    "                    \"fabp7_px\": data.fabp7_px_L, \n",
    "                    \n",
    "                    \"ov_iba1_fabp7\": data.ov_iba1_fabp7_L,\n",
    "                    \"ov_iba1_per_fabp7\": data.ov_iba1_per_fabp7_L\n",
    "            })\n",
    "    with open(name+\".json\", \"w\") as file:\n",
    "        file.write(json.dumps(results, indent=4))"
   ]
  },
  {
   "cell_type": "code",
   "execution_count": null,
   "id": "b2ebca10",
   "metadata": {},
   "outputs": [],
   "source": [
    "images_to_numbers ( W1_m, \"F5_W1_M\")"
   ]
  },
  {
   "cell_type": "code",
   "execution_count": null,
   "id": "8bf80e7a",
   "metadata": {},
   "outputs": [],
   "source": [
    "images_to_numbers ( W5_m, \"F5_W5_M\")"
   ]
  },
  {
   "cell_type": "code",
   "execution_count": null,
   "id": "94bac80f",
   "metadata": {},
   "outputs": [],
   "source": [
    "images_to_numbers ( W1_f, \"F5_W1_f\")"
   ]
  },
  {
   "cell_type": "code",
   "execution_count": null,
   "id": "8459633a",
   "metadata": {},
   "outputs": [],
   "source": [
    "images_to_numbers ( W5_f, \"F5_W5_f\")"
   ]
  },
  {
   "cell_type": "code",
   "execution_count": null,
   "id": "1a84201e",
   "metadata": {},
   "outputs": [],
   "source": []
  }
 ],
 "metadata": {
  "kernelspec": {
   "display_name": "Python 3",
   "language": "python",
   "name": "python3"
  },
  "language_info": {
   "codemirror_mode": {
    "name": "ipython",
    "version": 3
   },
   "file_extension": ".py",
   "mimetype": "text/x-python",
   "name": "python",
   "nbconvert_exporter": "python",
   "pygments_lexer": "ipython3",
   "version": "3.8.8"
  }
 },
 "nbformat": 4,
 "nbformat_minor": 5
}
